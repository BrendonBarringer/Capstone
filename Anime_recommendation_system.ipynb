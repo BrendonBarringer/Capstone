{
 "cells": [
  {
   "cell_type": "markdown",
   "metadata": {
    "tags": []
   },
   "source": [
    "## Anime Recommendation System - Data Preprocessing and system development\n"
   ]
  },
  {
   "cell_type": "code",
   "execution_count": 1,
   "metadata": {
    "tags": []
   },
   "outputs": [],
   "source": [
    "import numpy as np\n",
    "import pandas as pd\n",
    "import seaborn as sns\n",
    "sns.set_style('white')\n",
    "import matplotlib.pyplot as plt\n",
    "%matplotlib inline\n",
    "import re\n",
    "import ipywidgets as widgets\n",
    "from ipywidgets import interact\n",
    "from functools import partial"
   ]
  },
  {
   "cell_type": "markdown",
   "metadata": {},
   "source": [
    "### The dataset\n",
    "Dataset was downloaded from [Kaggle](https://www.kaggle.com/datasets/hernan4444/anime-recommendation-database-2020)"
   ]
  },
  {
   "cell_type": "code",
   "execution_count": 2,
   "metadata": {},
   "outputs": [],
   "source": [
    "anime_db = pd.read_csv('./data/MAL.csv')"
   ]
  },
  {
   "cell_type": "code",
   "execution_count": 3,
   "metadata": {
    "collapsed": false,
    "jupyter": {
     "outputs_hidden": false
    }
   },
   "outputs": [
    {
     "name": "stdout",
     "output_type": "stream",
     "text": [
      "<class 'pandas.core.frame.DataFrame'>\n",
      "RangeIndex: 16650 entries, 0 to 16649\n",
      "Data columns (total 11 columns):\n",
      " #   Column         Non-Null Count  Dtype  \n",
      "---  ------         --------------  -----  \n",
      " 0   Unnamed: 0     16650 non-null  int64  \n",
      " 1   name           16650 non-null  object \n",
      " 2   english_name   5166 non-null   object \n",
      " 3   type           16650 non-null  object \n",
      " 4   episodes       16167 non-null  float64\n",
      " 5   members        16650 non-null  float64\n",
      " 6   score_members  0 non-null      float64\n",
      " 7   rating         11584 non-null  float64\n",
      " 8   genre          16650 non-null  object \n",
      " 9   dates          16650 non-null  object \n",
      " 10  url            16650 non-null  object \n",
      "dtypes: float64(4), int64(1), object(6)\n",
      "memory usage: 1.4+ MB\n"
     ]
    }
   ],
   "source": [
    "anime_db.info()"
   ]
  },
  {
   "cell_type": "code",
   "execution_count": 4,
   "metadata": {},
   "outputs": [
    {
     "data": {
      "image/png": "[encoded data removed]",
      "text/plain": [
       "<Figure size 432x288 with 2 Axes>"
      ]
     },
     "metadata": {
      "needs_background": "light"
     },
     "output_type": "display_data"
    }
   ],
   "source": [
    "anime_corr_map = sns.heatmap(anime_db.corr(),cmap=\"YlGnBu\")\n",
    "plt.show()"
   ]
  },
  {
   "cell_type": "markdown",
   "metadata": {},
   "source": [
    "## Removing unnecessary field \"Unnamed: 0\""
   ]
  },
  {
   "cell_type": "code",
   "execution_count": 5,
   "metadata": {},
   "outputs": [],
   "source": [
    "anime_db = anime_db.drop([\"Unnamed: 0\"], axis=1)"
   ]
  },
  {
   "cell_type": "markdown",
   "metadata": {},
   "source": [
    "## Adult content should not be included in our recommendation system."
   ]
  },
  {
   "cell_type": "code",
   "execution_count": 6,
   "metadata": {},
   "outputs": [
    {
     "data": {
      "text/plain": [
       "1209"
      ]
     },
     "execution_count": 6,
     "metadata": {},
     "output_type": "execute_result"
    }
   ],
   "source": [
    "# search for adult content\n",
    "sum(anime_db.genre.str.contains('Hentai'))"
   ]
  },
  {
   "cell_type": "code",
   "execution_count": 7,
   "metadata": {},
   "outputs": [],
   "source": [
    "# drop adult content from the db\n",
    "anime_db = anime_db.drop(anime_db[anime_db.genre.str.contains('Hentai')].index)"
   ]
  },
  {
   "cell_type": "code",
   "execution_count": 8,
   "metadata": {},
   "outputs": [
    {
     "data": {
      "text/plain": [
       "0"
      ]
     },
     "execution_count": 8,
     "metadata": {},
     "output_type": "execute_result"
    }
   ],
   "source": [
    "# verify removal\n",
    "sum(anime_db.genre.str.contains('Hentai'))"
   ]
  },
  {
   "cell_type": "markdown",
   "metadata": {},
   "source": [
    "### Missing data\n",
    "\n",
    "Check for missing data"
   ]
  },
  {
   "cell_type": "code",
   "execution_count": 9,
   "metadata": {
    "collapsed": false,
    "jupyter": {
     "outputs_hidden": false
    }
   },
   "outputs": [
    {
     "data": {
      "text/plain": [
       "score_members    15441\n",
       "english_name     10600\n",
       "rating            5046\n",
       "episodes           438\n",
       "name                 0\n",
       "type                 0\n",
       "members              0\n",
       "genre                0\n",
       "dates                0\n",
       "url                  0\n",
       "dtype: int64"
      ]
     },
     "execution_count": 9,
     "metadata": {},
     "output_type": "execute_result"
    }
   ],
   "source": [
    "#check missing values\n",
    "anime_db.isnull().sum().sort_values(ascending=False)"
   ]
  },
  {
   "cell_type": "markdown",
   "metadata": {},
   "source": [
    "A couple missing data (identified as NA. Note there could be missing data masked as something else):\n",
    "\n",
    "- 438 are missing the number of episodes, \n",
    "- 5046 do not have ratings\n",
    "\n",
    "## Drop score_members column as it is not useful"
   ]
  },
  {
   "cell_type": "code",
   "execution_count": 10,
   "metadata": {},
   "outputs": [],
   "source": [
    "anime_db = anime_db.drop([\"score_members\"], axis=1)"
   ]
  },
  {
   "cell_type": "code",
   "execution_count": 11,
   "metadata": {},
   "outputs": [
    {
     "name": "stdout",
     "output_type": "stream",
     "text": [
      "<class 'pandas.core.frame.DataFrame'>\n",
      "Int64Index: 15441 entries, 0 to 16649\n",
      "Data columns (total 9 columns):\n",
      " #   Column        Non-Null Count  Dtype  \n",
      "---  ------        --------------  -----  \n",
      " 0   name          15441 non-null  object \n",
      " 1   english_name  4841 non-null   object \n",
      " 2   type          15441 non-null  object \n",
      " 3   episodes      15003 non-null  float64\n",
      " 4   members       15441 non-null  float64\n",
      " 5   rating        10395 non-null  float64\n",
      " 6   genre         15441 non-null  object \n",
      " 7   dates         15441 non-null  object \n",
      " 8   url           15441 non-null  object \n",
      "dtypes: float64(3), object(6)\n",
      "memory usage: 1.2+ MB\n"
     ]
    }
   ],
   "source": [
    "anime_db.info()"
   ]
  },
  {
   "cell_type": "code",
   "execution_count": 12,
   "metadata": {},
   "outputs": [
    {
     "data": {
      "text/html": [
       "<div>\n",
       "<style scoped>\n",
       "    .dataframe tbody tr th:only-of-type {\n",
       "        vertical-align: middle;\n",
       "    }\n",
       "\n",
       "    .dataframe tbody tr th {\n",
       "        vertical-align: top;\n",
       "    }\n",
       "\n",
       "    .dataframe thead th {\n",
       "        text-align: right;\n",
       "    }\n",
       "</style>\n",
       "<table border=\"1\" class=\"dataframe\">\n",
       "  <thead>\n",
       "    <tr style=\"text-align: right;\">\n",
       "      <th></th>\n",
       "      <th>episodes</th>\n",
       "      <th>members</th>\n",
       "      <th>rating</th>\n",
       "    </tr>\n",
       "  </thead>\n",
       "  <tbody>\n",
       "    <tr>\n",
       "      <th>count</th>\n",
       "      <td>15003.000000</td>\n",
       "      <td>1.544100e+04</td>\n",
       "      <td>10395.000000</td>\n",
       "    </tr>\n",
       "    <tr>\n",
       "      <th>mean</th>\n",
       "      <td>12.412717</td>\n",
       "      <td>3.183351e+04</td>\n",
       "      <td>6.601014</td>\n",
       "    </tr>\n",
       "    <tr>\n",
       "      <th>std</th>\n",
       "      <td>50.262130</td>\n",
       "      <td>1.070111e+05</td>\n",
       "      <td>0.891502</td>\n",
       "    </tr>\n",
       "    <tr>\n",
       "      <th>min</th>\n",
       "      <td>1.000000</td>\n",
       "      <td>1.900000e+01</td>\n",
       "      <td>1.890000</td>\n",
       "    </tr>\n",
       "    <tr>\n",
       "      <th>25%</th>\n",
       "      <td>1.000000</td>\n",
       "      <td>2.770000e+02</td>\n",
       "      <td>6.040000</td>\n",
       "    </tr>\n",
       "    <tr>\n",
       "      <th>50%</th>\n",
       "      <td>1.000000</td>\n",
       "      <td>1.681000e+03</td>\n",
       "      <td>6.620000</td>\n",
       "    </tr>\n",
       "    <tr>\n",
       "      <th>75%</th>\n",
       "      <td>12.000000</td>\n",
       "      <td>1.444500e+04</td>\n",
       "      <td>7.240000</td>\n",
       "    </tr>\n",
       "    <tr>\n",
       "      <th>max</th>\n",
       "      <td>3057.000000</td>\n",
       "      <td>2.074444e+06</td>\n",
       "      <td>9.230000</td>\n",
       "    </tr>\n",
       "  </tbody>\n",
       "</table>\n",
       "</div>"
      ],
      "text/plain": [
       "           episodes       members        rating\n",
       "count  15003.000000  1.544100e+04  10395.000000\n",
       "mean      12.412717  3.183351e+04      6.601014\n",
       "std       50.262130  1.070111e+05      0.891502\n",
       "min        1.000000  1.900000e+01      1.890000\n",
       "25%        1.000000  2.770000e+02      6.040000\n",
       "50%        1.000000  1.681000e+03      6.620000\n",
       "75%       12.000000  1.444500e+04      7.240000\n",
       "max     3057.000000  2.074444e+06      9.230000"
      ]
     },
     "execution_count": 12,
     "metadata": {},
     "output_type": "execute_result"
    }
   ],
   "source": [
    "anime_db.describe()"
   ]
  },
  {
   "cell_type": "code",
   "execution_count": 13,
   "metadata": {
    "tags": []
   },
   "outputs": [
    {
     "data": {
      "text/plain": [
       "<AxesSubplot:>"
      ]
     },
     "execution_count": 13,
     "metadata": {},
     "output_type": "execute_result"
    },
    {
     "data": {
      "image/png": "[encoded data removed]",
      "text/plain": [
       "<Figure size 720x720 with 1 Axes>"
      ]
     },
     "metadata": {
      "needs_background": "light"
     },
     "output_type": "display_data"
    }
   ],
   "source": [
    "# Histogram\n",
    "anime_db[\"rating\"].hist(figsize=(10,10))"
   ]
  },
  {
   "cell_type": "code",
   "execution_count": 14,
   "metadata": {
    "tags": []
   },
   "outputs": [
    {
     "name": "stdout",
     "output_type": "stream",
     "text": [
      "Mean: 6.60\n",
      "Standard Deviation: 0.89\n",
      "Total titles below 3 standard deviations:\n",
      "47\n",
      "Total titles above 3 standard deviations:\n",
      "0\n"
     ]
    }
   ],
   "source": [
    "# Find the mean and standard deviation\n",
    "average = anime_db[\"rating\"].mean()\n",
    "standard_dev = anime_db[\"rating\"].std()\n",
    "\n",
    "# Print the mean and standard deviation\n",
    "print(f\"Mean: {average:.2f}\")\n",
    "print(f\"Standard Deviation: {standard_dev:.2f}\")\n",
    "\n",
    "# Print outlier counts\n",
    "print(\"Total titles below 3 standard deviations:\")\n",
    "print(anime_db[anime_db[\"rating\"] < (average - (standard_dev * 3))][\"name\"].count()) \n",
    " \n",
    "print(\"Total titles above 3 standard deviations:\")                                                                                            \n",
    "print(anime_db[anime_db[\"rating\"] >= (average + (standard_dev * 3))][\"name\"].count())"
   ]
  },
  {
   "cell_type": "code",
   "execution_count": 15,
   "metadata": {},
   "outputs": [
    {
     "data": {
      "text/plain": [
       "<AxesSubplot:>"
      ]
     },
     "execution_count": 15,
     "metadata": {},
     "output_type": "execute_result"
    },
    {
     "data": {
      "image/png": "[encoded data removed]",
      "text/plain": [
       "<Figure size 720x720 with 1 Axes>"
      ]
     },
     "metadata": {
      "needs_background": "light"
     },
     "output_type": "display_data"
    }
   ],
   "source": [
    "# Drop titles below 3 standard deviations from the mean and reprint the histogram\n",
    "anime_db = anime_db.drop(anime_db[anime_db[\"rating\"] <= (average - (standard_dev * 3))].index)\n",
    "\n",
    "# Histogram\n",
    "anime_db[\"rating\"].hist(figsize=(10,10))"
   ]
  },
  {
   "cell_type": "markdown",
   "metadata": {},
   "source": [
    "## Members vs Rating"
   ]
  },
  {
   "cell_type": "code",
   "execution_count": 16,
   "metadata": {},
   "outputs": [
    {
     "data": {
      "image/png": "[encoded data removed]",
      "text/plain": [
       "<Figure size 432x432 with 3 Axes>"
      ]
     },
     "metadata": {
      "needs_background": "light"
     },
     "output_type": "display_data"
    }
   ],
   "source": [
    "sns.jointplot(x='rating',y='members',data=anime_db,alpha=0.5)\n",
    "plt.yscale('log')"
   ]
  },
  {
   "cell_type": "markdown",
   "metadata": {},
   "source": [
    "the ratings seem to be linearly dependent on the (log) number of members. Seems logical: the more popular an anime is, the more members will add it to thieir list, and thus would score. Thus we can add missing ratings, based on the number of members. let's derive a linear model.\n",
    "\n",
    "#### Linear model of members and ratings\n",
    "\n",
    " Let's create two datasets: \n",
    " 1. with ratings\n",
    " 2. without ratings"
   ]
  },
  {
   "cell_type": "code",
   "execution_count": 17,
   "metadata": {},
   "outputs": [
    {
     "name": "stdout",
     "output_type": "stream",
     "text": [
      "<class 'pandas.core.frame.DataFrame'>\n",
      "RangeIndex: 5046 entries, 0 to 5045\n",
      "Data columns (total 9 columns):\n",
      " #   Column        Non-Null Count  Dtype  \n",
      "---  ------        --------------  -----  \n",
      " 0   name          5046 non-null   object \n",
      " 1   english_name  868 non-null    object \n",
      " 2   type          5046 non-null   object \n",
      " 3   episodes      4676 non-null   float64\n",
      " 4   members       5046 non-null   float64\n",
      " 5   rating        0 non-null      float64\n",
      " 6   genre         5046 non-null   object \n",
      " 7   dates         5046 non-null   object \n",
      " 8   url           5046 non-null   object \n",
      "dtypes: float64(3), object(6)\n",
      "memory usage: 354.9+ KB\n"
     ]
    }
   ],
   "source": [
    "without_rating = anime_db[anime_db[\"rating\"].isnull()]\n",
    "without_rating = without_rating.reset_index(drop=True)\n",
    "without_rating.info()"
   ]
  },
  {
   "cell_type": "code",
   "execution_count": 18,
   "metadata": {},
   "outputs": [
    {
     "name": "stdout",
     "output_type": "stream",
     "text": [
      "<class 'pandas.core.frame.DataFrame'>\n",
      "RangeIndex: 10348 entries, 0 to 10347\n",
      "Data columns (total 9 columns):\n",
      " #   Column        Non-Null Count  Dtype  \n",
      "---  ------        --------------  -----  \n",
      " 0   name          10348 non-null  object \n",
      " 1   english_name  3963 non-null   object \n",
      " 2   type          10348 non-null  object \n",
      " 3   episodes      10280 non-null  float64\n",
      " 4   members       10348 non-null  float64\n",
      " 5   rating        10348 non-null  float64\n",
      " 6   genre         10348 non-null  object \n",
      " 7   dates         10348 non-null  object \n",
      " 8   url           10348 non-null  object \n",
      "dtypes: float64(3), object(6)\n",
      "memory usage: 727.7+ KB\n"
     ]
    }
   ],
   "source": [
    "with_rating = anime_db.dropna(subset=['rating'])\n",
    "with_rating = with_rating.reset_index(drop=True)\n",
    "with_rating.info()"
   ]
  },
  {
   "cell_type": "code",
   "execution_count": 19,
   "metadata": {},
   "outputs": [
    {
     "data": {
      "text/plain": [
       "array([[ 3655.],\n",
       "       [81251.],\n",
       "       [ 5726.],\n",
       "       ...,\n",
       "       [ 3272.],\n",
       "       [  207.],\n",
       "       [  362.]])"
      ]
     },
     "execution_count": 19,
     "metadata": {},
     "output_type": "execute_result"
    }
   ],
   "source": [
    "with_rating['members'].values.reshape(-1, 1)"
   ]
  },
  {
   "cell_type": "code",
   "execution_count": 20,
   "metadata": {},
   "outputs": [
    {
     "data": {
      "text/html": [
       "<style>#sk-container-id-1 {color: black;background-color: white;}#sk-container-id-1 pre{padding: 0;}#sk-container-id-1 div.sk-toggleable {background-color: white;}#sk-container-id-1 label.sk-toggleable__label {cursor: pointer;display: block;width: 100%;margin-bottom: 0;padding: 0.3em;box-sizing: border-box;text-align: center;}#sk-container-id-1 label.sk-toggleable__label-arrow:before {content: \"▸\";float: left;margin-right: 0.25em;color: #696969;}#sk-container-id-1 label.sk-toggleable__label-arrow:hover:before {color: black;}#sk-container-id-1 div.sk-estimator:hover label.sk-toggleable__label-arrow:before {color: black;}#sk-container-id-1 div.sk-toggleable__content {max-height: 0;max-width: 0;overflow: hidden;text-align: left;background-color: #f0f8ff;}#sk-container-id-1 div.sk-toggleable__content pre {margin: 0.2em;color: black;border-radius: 0.25em;background-color: #f0f8ff;}#sk-container-id-1 input.sk-toggleable__control:checked~div.sk-toggleable__content {max-height: 200px;max-width: 100%;overflow: auto;}#sk-container-id-1 input.sk-toggleable__control:checked~label.sk-toggleable__label-arrow:before {content: \"▾\";}#sk-container-id-1 div.sk-estimator input.sk-toggleable__control:checked~label.sk-toggleable__label {background-color: #d4ebff;}#sk-container-id-1 div.sk-label input.sk-toggleable__control:checked~label.sk-toggleable__label {background-color: #d4ebff;}#sk-container-id-1 input.sk-hidden--visually {border: 0;clip: rect(1px 1px 1px 1px);clip: rect(1px, 1px, 1px, 1px);height: 1px;margin: -1px;overflow: hidden;padding: 0;position: absolute;width: 1px;}#sk-container-id-1 div.sk-estimator {font-family: monospace;background-color: #f0f8ff;border: 1px dotted black;border-radius: 0.25em;box-sizing: border-box;margin-bottom: 0.5em;}#sk-container-id-1 div.sk-estimator:hover {background-color: #d4ebff;}#sk-container-id-1 div.sk-parallel-item::after {content: \"\";width: 100%;border-bottom: 1px solid gray;flex-grow: 1;}#sk-container-id-1 div.sk-label:hover label.sk-toggleable__label {background-color: #d4ebff;}#sk-container-id-1 div.sk-serial::before {content: \"\";position: absolute;border-left: 1px solid gray;box-sizing: border-box;top: 0;bottom: 0;left: 50%;z-index: 0;}#sk-container-id-1 div.sk-serial {display: flex;flex-direction: column;align-items: center;background-color: white;padding-right: 0.2em;padding-left: 0.2em;position: relative;}#sk-container-id-1 div.sk-item {position: relative;z-index: 1;}#sk-container-id-1 div.sk-parallel {display: flex;align-items: stretch;justify-content: center;background-color: white;position: relative;}#sk-container-id-1 div.sk-item::before, #sk-container-id-1 div.sk-parallel-item::before {content: \"\";position: absolute;border-left: 1px solid gray;box-sizing: border-box;top: 0;bottom: 0;left: 50%;z-index: -1;}#sk-container-id-1 div.sk-parallel-item {display: flex;flex-direction: column;z-index: 1;position: relative;background-color: white;}#sk-container-id-1 div.sk-parallel-item:first-child::after {align-self: flex-end;width: 50%;}#sk-container-id-1 div.sk-parallel-item:last-child::after {align-self: flex-start;width: 50%;}#sk-container-id-1 div.sk-parallel-item:only-child::after {width: 0;}#sk-container-id-1 div.sk-dashed-wrapped {border: 1px dashed gray;margin: 0 0.4em 0.5em 0.4em;box-sizing: border-box;padding-bottom: 0.4em;background-color: white;}#sk-container-id-1 div.sk-label label {font-family: monospace;font-weight: bold;display: inline-block;line-height: 1.2em;}#sk-container-id-1 div.sk-label-container {text-align: center;}#sk-container-id-1 div.sk-container {/* jupyter's `normalize.less` sets `[hidden] { display: none; }` but bootstrap.min.css set `[hidden] { display: none !important; }` so we also need the `!important` here to be able to override the default hidden behavior on the sphinx rendered scikit-learn.org. See: https://github.com/scikit-learn/scikit-learn/issues/21755 */display: inline-block !important;position: relative;}#sk-container-id-1 div.sk-text-repr-fallback {display: none;}</style><div id=\"sk-container-id-1\" class=\"sk-top-container\"><div class=\"sk-text-repr-fallback\"><pre>LinearRegression()</pre><b>In a Jupyter environment, please rerun this cell to show the HTML representation or trust the notebook. <br />On GitHub, the HTML representation is unable to render, please try loading this page with nbviewer.org.</b></div><div class=\"sk-container\" hidden><div class=\"sk-item\"><div class=\"sk-estimator sk-toggleable\"><input class=\"sk-toggleable__control sk-hidden--visually\" id=\"sk-estimator-id-1\" type=\"checkbox\" checked><label for=\"sk-estimator-id-1\" class=\"sk-toggleable__label sk-toggleable__label-arrow\">LinearRegression</label><div class=\"sk-toggleable__content\"><pre>LinearRegression()</pre></div></div></div></div></div>"
      ],
      "text/plain": [
       "LinearRegression()"
      ]
     },
     "execution_count": 20,
     "metadata": {},
     "output_type": "execute_result"
    }
   ],
   "source": [
    "# now create a linear model using the with_ratings data\n",
    "\n",
    "from sklearn.linear_model import LinearRegression\n",
    "lm = LinearRegression()\n",
    "lm.fit(np.log10(with_rating['members'].values.reshape(-1, 1)),with_rating['rating'])"
   ]
  },
  {
   "cell_type": "code",
   "execution_count": 21,
   "metadata": {},
   "outputs": [],
   "source": [
    "without_rating['members_copy'] = without_rating['members']"
   ]
  },
  {
   "cell_type": "code",
   "execution_count": 22,
   "metadata": {},
   "outputs": [],
   "source": [
    "without_rating['members_copy'].replace([0],[1],inplace=True)"
   ]
  },
  {
   "cell_type": "code",
   "execution_count": 23,
   "metadata": {},
   "outputs": [
    {
     "data": {
      "text/html": [
       "<div>\n",
       "<style scoped>\n",
       "    .dataframe tbody tr th:only-of-type {\n",
       "        vertical-align: middle;\n",
       "    }\n",
       "\n",
       "    .dataframe tbody tr th {\n",
       "        vertical-align: top;\n",
       "    }\n",
       "\n",
       "    .dataframe thead th {\n",
       "        text-align: right;\n",
       "    }\n",
       "</style>\n",
       "<table border=\"1\" class=\"dataframe\">\n",
       "  <thead>\n",
       "    <tr style=\"text-align: right;\">\n",
       "      <th></th>\n",
       "      <th>episodes</th>\n",
       "      <th>members</th>\n",
       "      <th>rating</th>\n",
       "      <th>members_copy</th>\n",
       "    </tr>\n",
       "  </thead>\n",
       "  <tbody>\n",
       "    <tr>\n",
       "      <th>count</th>\n",
       "      <td>4676.000000</td>\n",
       "      <td>5046.000000</td>\n",
       "      <td>5046.000000</td>\n",
       "      <td>5046.000000</td>\n",
       "    </tr>\n",
       "    <tr>\n",
       "      <th>mean</th>\n",
       "      <td>12.733319</td>\n",
       "      <td>1079.077883</td>\n",
       "      <td>5.527446</td>\n",
       "      <td>1079.077883</td>\n",
       "    </tr>\n",
       "    <tr>\n",
       "      <th>std</th>\n",
       "      <td>65.381088</td>\n",
       "      <td>7753.222516</td>\n",
       "      <td>0.332500</td>\n",
       "      <td>7753.222516</td>\n",
       "    </tr>\n",
       "    <tr>\n",
       "      <th>min</th>\n",
       "      <td>1.000000</td>\n",
       "      <td>19.000000</td>\n",
       "      <td>4.768075</td>\n",
       "      <td>19.000000</td>\n",
       "    </tr>\n",
       "    <tr>\n",
       "      <th>25%</th>\n",
       "      <td>1.000000</td>\n",
       "      <td>119.000000</td>\n",
       "      <td>5.339304</td>\n",
       "      <td>119.000000</td>\n",
       "    </tr>\n",
       "    <tr>\n",
       "      <th>50%</th>\n",
       "      <td>1.000000</td>\n",
       "      <td>186.000000</td>\n",
       "      <td>5.478360</td>\n",
       "      <td>186.000000</td>\n",
       "    </tr>\n",
       "    <tr>\n",
       "      <th>75%</th>\n",
       "      <td>8.000000</td>\n",
       "      <td>297.000000</td>\n",
       "      <td>5.624067</td>\n",
       "      <td>297.000000</td>\n",
       "    </tr>\n",
       "    <tr>\n",
       "      <th>max</th>\n",
       "      <td>3057.000000</td>\n",
       "      <td>217776.000000</td>\n",
       "      <td>7.678196</td>\n",
       "      <td>217776.000000</td>\n",
       "    </tr>\n",
       "  </tbody>\n",
       "</table>\n",
       "</div>"
      ],
      "text/plain": [
       "          episodes        members       rating   members_copy\n",
       "count  4676.000000    5046.000000  5046.000000    5046.000000\n",
       "mean     12.733319    1079.077883     5.527446    1079.077883\n",
       "std      65.381088    7753.222516     0.332500    7753.222516\n",
       "min       1.000000      19.000000     4.768075      19.000000\n",
       "25%       1.000000     119.000000     5.339304     119.000000\n",
       "50%       1.000000     186.000000     5.478360     186.000000\n",
       "75%       8.000000     297.000000     5.624067     297.000000\n",
       "max    3057.000000  217776.000000     7.678196  217776.000000"
      ]
     },
     "execution_count": 23,
     "metadata": {},
     "output_type": "execute_result"
    }
   ],
   "source": [
    "without_rating['rating'] = lm.predict(np.log10(without_rating['members_copy'].values.reshape(-1,1)))\n",
    "without_rating.describe()"
   ]
  },
  {
   "cell_type": "code",
   "execution_count": 24,
   "metadata": {},
   "outputs": [],
   "source": [
    "without_rating = without_rating.drop(\"members_copy\",axis=1)"
   ]
  },
  {
   "cell_type": "code",
   "execution_count": 25,
   "metadata": {},
   "outputs": [
    {
     "name": "stdout",
     "output_type": "stream",
     "text": [
      "<class 'pandas.core.frame.DataFrame'>\n",
      "RangeIndex: 5046 entries, 0 to 5045\n",
      "Data columns (total 9 columns):\n",
      " #   Column        Non-Null Count  Dtype  \n",
      "---  ------        --------------  -----  \n",
      " 0   name          5046 non-null   object \n",
      " 1   english_name  868 non-null    object \n",
      " 2   type          5046 non-null   object \n",
      " 3   episodes      4676 non-null   float64\n",
      " 4   members       5046 non-null   float64\n",
      " 5   rating        5046 non-null   float64\n",
      " 6   genre         5046 non-null   object \n",
      " 7   dates         5046 non-null   object \n",
      " 8   url           5046 non-null   object \n",
      "dtypes: float64(3), object(6)\n",
      "memory usage: 354.9+ KB\n"
     ]
    }
   ],
   "source": [
    "without_rating.info()"
   ]
  },
  {
   "cell_type": "code",
   "execution_count": 26,
   "metadata": {},
   "outputs": [],
   "source": [
    "# for future reference I will add a new parameter that indicates if the ratings were modelled\n",
    "\n",
    "without_rating['rating_type'] = \"modelled\"\n",
    "with_rating['rating_type'] = \"MAL\""
   ]
  },
  {
   "cell_type": "code",
   "execution_count": 27,
   "metadata": {},
   "outputs": [
    {
     "name": "stdout",
     "output_type": "stream",
     "text": [
      "<class 'pandas.core.frame.DataFrame'>\n",
      "RangeIndex: 10348 entries, 0 to 10347\n",
      "Data columns (total 10 columns):\n",
      " #   Column        Non-Null Count  Dtype  \n",
      "---  ------        --------------  -----  \n",
      " 0   name          10348 non-null  object \n",
      " 1   english_name  3963 non-null   object \n",
      " 2   type          10348 non-null  object \n",
      " 3   episodes      10280 non-null  float64\n",
      " 4   members       10348 non-null  float64\n",
      " 5   rating        10348 non-null  float64\n",
      " 6   genre         10348 non-null  object \n",
      " 7   dates         10348 non-null  object \n",
      " 8   url           10348 non-null  object \n",
      " 9   rating_type   10348 non-null  object \n",
      "dtypes: float64(3), object(7)\n",
      "memory usage: 808.6+ KB\n"
     ]
    }
   ],
   "source": [
    "with_rating.info()"
   ]
  },
  {
   "cell_type": "code",
   "execution_count": 28,
   "metadata": {},
   "outputs": [
    {
     "name": "stdout",
     "output_type": "stream",
     "text": [
      "<class 'pandas.core.frame.DataFrame'>\n",
      "RangeIndex: 5046 entries, 0 to 5045\n",
      "Data columns (total 10 columns):\n",
      " #   Column        Non-Null Count  Dtype  \n",
      "---  ------        --------------  -----  \n",
      " 0   name          5046 non-null   object \n",
      " 1   english_name  868 non-null    object \n",
      " 2   type          5046 non-null   object \n",
      " 3   episodes      4676 non-null   float64\n",
      " 4   members       5046 non-null   float64\n",
      " 5   rating        5046 non-null   float64\n",
      " 6   genre         5046 non-null   object \n",
      " 7   dates         5046 non-null   object \n",
      " 8   url           5046 non-null   object \n",
      " 9   rating_type   5046 non-null   object \n",
      "dtypes: float64(3), object(7)\n",
      "memory usage: 394.3+ KB\n"
     ]
    }
   ],
   "source": [
    "without_rating.info()"
   ]
  },
  {
   "cell_type": "code",
   "execution_count": 29,
   "metadata": {},
   "outputs": [
    {
     "name": "stdout",
     "output_type": "stream",
     "text": [
      "<class 'pandas.core.frame.DataFrame'>\n",
      "RangeIndex: 15394 entries, 0 to 15393\n",
      "Data columns (total 10 columns):\n",
      " #   Column        Non-Null Count  Dtype  \n",
      "---  ------        --------------  -----  \n",
      " 0   name          15394 non-null  object \n",
      " 1   english_name  4831 non-null   object \n",
      " 2   type          15394 non-null  object \n",
      " 3   episodes      14956 non-null  float64\n",
      " 4   members       15394 non-null  float64\n",
      " 5   rating        15394 non-null  float64\n",
      " 6   genre         15394 non-null  object \n",
      " 7   dates         15394 non-null  object \n",
      " 8   url           15394 non-null  object \n",
      " 9   rating_type   15394 non-null  object \n",
      "dtypes: float64(3), object(7)\n",
      "memory usage: 1.2+ MB\n"
     ]
    },
    {
     "data": {
      "text/plain": [
       "english_name    10563\n",
       "episodes          438\n",
       "name                0\n",
       "type                0\n",
       "members             0\n",
       "rating              0\n",
       "genre               0\n",
       "dates               0\n",
       "url                 0\n",
       "rating_type         0\n",
       "dtype: int64"
      ]
     },
     "execution_count": 29,
     "metadata": {},
     "output_type": "execute_result"
    }
   ],
   "source": [
    "anime_db = pd.concat([without_rating, with_rating])\n",
    "anime_db = anime_db.reset_index(drop=True)\n",
    "anime_db.info()\n",
    "anime_db.isnull().sum().sort_values(ascending=False)"
   ]
  },
  {
   "cell_type": "code",
   "execution_count": 30,
   "metadata": {},
   "outputs": [
    {
     "data": {
      "text/html": [
       "<div>\n",
       "<style scoped>\n",
       "    .dataframe tbody tr th:only-of-type {\n",
       "        vertical-align: middle;\n",
       "    }\n",
       "\n",
       "    .dataframe tbody tr th {\n",
       "        vertical-align: top;\n",
       "    }\n",
       "\n",
       "    .dataframe thead th {\n",
       "        text-align: right;\n",
       "    }\n",
       "</style>\n",
       "<table border=\"1\" class=\"dataframe\">\n",
       "  <thead>\n",
       "    <tr style=\"text-align: right;\">\n",
       "      <th></th>\n",
       "      <th>name</th>\n",
       "      <th>english_name</th>\n",
       "      <th>type</th>\n",
       "      <th>episodes</th>\n",
       "      <th>members</th>\n",
       "      <th>rating</th>\n",
       "      <th>genre</th>\n",
       "      <th>dates</th>\n",
       "      <th>url</th>\n",
       "      <th>rating_type</th>\n",
       "    </tr>\n",
       "  </thead>\n",
       "  <tbody>\n",
       "    <tr>\n",
       "      <th>0</th>\n",
       "      <td>It's Marey O'Clock Now!</td>\n",
       "      <td>NaN</td>\n",
       "      <td>Movie</td>\n",
       "      <td>1.0</td>\n",
       "      <td>56.0</td>\n",
       "      <td>5.104617</td>\n",
       "      <td>['Dementia']</td>\n",
       "      <td>Oct 2018 - Oct 2018</td>\n",
       "      <td>https://myanimelist.net/anime/41489/Its_Marey_...</td>\n",
       "      <td>modelled</td>\n",
       "    </tr>\n",
       "    <tr>\n",
       "      <th>1</th>\n",
       "      <td>It's Show Time!</td>\n",
       "      <td>NaN</td>\n",
       "      <td>Music</td>\n",
       "      <td>1.0</td>\n",
       "      <td>135.0</td>\n",
       "      <td>5.378581</td>\n",
       "      <td>['Music']</td>\n",
       "      <td>Feb 2019 - Feb 2019</td>\n",
       "      <td>https://myanimelist.net/anime/39224/Its_Show_Time</td>\n",
       "      <td>modelled</td>\n",
       "    </tr>\n",
       "    <tr>\n",
       "      <th>2</th>\n",
       "      <td>Itazura Post</td>\n",
       "      <td>NaN</td>\n",
       "      <td>Movie</td>\n",
       "      <td>1.0</td>\n",
       "      <td>255.0</td>\n",
       "      <td>5.576596</td>\n",
       "      <td>['Comedy']</td>\n",
       "      <td>Jul 1917 - Jul 1917</td>\n",
       "      <td>https://myanimelist.net/anime/23183/Itazura_Post</td>\n",
       "      <td>modelled</td>\n",
       "    </tr>\n",
       "    <tr>\n",
       "      <th>3</th>\n",
       "      <td>Itazura Tenshi Chippo-chan</td>\n",
       "      <td>NaN</td>\n",
       "      <td>TV</td>\n",
       "      <td>240.0</td>\n",
       "      <td>216.0</td>\n",
       "      <td>5.524917</td>\n",
       "      <td>['Comedy', 'Kids']</td>\n",
       "      <td>Mar 1970 - Dec 1970</td>\n",
       "      <td>https://myanimelist.net/anime/20025/Itazura_Te...</td>\n",
       "      <td>modelled</td>\n",
       "    </tr>\n",
       "    <tr>\n",
       "      <th>4</th>\n",
       "      <td>Itekoma Hits</td>\n",
       "      <td>NaN</td>\n",
       "      <td>Music</td>\n",
       "      <td>1.0</td>\n",
       "      <td>83.0</td>\n",
       "      <td>5.227130</td>\n",
       "      <td>['Music', 'Dementia', 'Psychological']</td>\n",
       "      <td>Jun 2019 - Jun 2019</td>\n",
       "      <td>https://myanimelist.net/anime/40598/Itekoma_Hits</td>\n",
       "      <td>modelled</td>\n",
       "    </tr>\n",
       "  </tbody>\n",
       "</table>\n",
       "</div>"
      ],
      "text/plain": [
       "                         name english_name   type  episodes  members  \\\n",
       "0     It's Marey O'Clock Now!          NaN  Movie       1.0     56.0   \n",
       "1             It's Show Time!          NaN  Music       1.0    135.0   \n",
       "2                Itazura Post          NaN  Movie       1.0    255.0   \n",
       "3  Itazura Tenshi Chippo-chan          NaN     TV     240.0    216.0   \n",
       "4                Itekoma Hits          NaN  Music       1.0     83.0   \n",
       "\n",
       "     rating                                   genre  \\\n",
       "0  5.104617                            ['Dementia']   \n",
       "1  5.378581                               ['Music']   \n",
       "2  5.576596                              ['Comedy']   \n",
       "3  5.524917                      ['Comedy', 'Kids']   \n",
       "4  5.227130  ['Music', 'Dementia', 'Psychological']   \n",
       "\n",
       "                         dates  \\\n",
       "0          Oct 2018 - Oct 2018   \n",
       "1          Feb 2019 - Feb 2019   \n",
       "2          Jul 1917 - Jul 1917   \n",
       "3          Mar 1970 - Dec 1970   \n",
       "4          Jun 2019 - Jun 2019   \n",
       "\n",
       "                                                 url rating_type  \n",
       "0  https://myanimelist.net/anime/41489/Its_Marey_...    modelled  \n",
       "1  https://myanimelist.net/anime/39224/Its_Show_Time    modelled  \n",
       "2   https://myanimelist.net/anime/23183/Itazura_Post    modelled  \n",
       "3  https://myanimelist.net/anime/20025/Itazura_Te...    modelled  \n",
       "4   https://myanimelist.net/anime/40598/Itekoma_Hits    modelled  "
      ]
     },
     "execution_count": 30,
     "metadata": {},
     "output_type": "execute_result"
    }
   ],
   "source": [
    "anime_db.head()"
   ]
  },
  {
   "cell_type": "code",
   "execution_count": 31,
   "metadata": {},
   "outputs": [
    {
     "data": {
      "text/html": [
       "<div>\n",
       "<style scoped>\n",
       "    .dataframe tbody tr th:only-of-type {\n",
       "        vertical-align: middle;\n",
       "    }\n",
       "\n",
       "    .dataframe tbody tr th {\n",
       "        vertical-align: top;\n",
       "    }\n",
       "\n",
       "    .dataframe thead th {\n",
       "        text-align: right;\n",
       "    }\n",
       "</style>\n",
       "<table border=\"1\" class=\"dataframe\">\n",
       "  <thead>\n",
       "    <tr style=\"text-align: right;\">\n",
       "      <th></th>\n",
       "      <th>name</th>\n",
       "      <th>english_name</th>\n",
       "      <th>type</th>\n",
       "      <th>episodes</th>\n",
       "      <th>members</th>\n",
       "      <th>rating</th>\n",
       "      <th>genre</th>\n",
       "      <th>dates</th>\n",
       "      <th>url</th>\n",
       "      <th>rating_type</th>\n",
       "    </tr>\n",
       "  </thead>\n",
       "  <tbody>\n",
       "    <tr>\n",
       "      <th>15389</th>\n",
       "      <td>Aoi Sekai no Chuushin de</td>\n",
       "      <td>World War Blue</td>\n",
       "      <td>Special</td>\n",
       "      <td>3.0</td>\n",
       "      <td>39823.0</td>\n",
       "      <td>5.84</td>\n",
       "      <td>['Action', 'Adventure', 'Ecchi', 'Fantasy', 'P...</td>\n",
       "      <td>Oct 2012 - Apr 2013</td>\n",
       "      <td>https://myanimelist.net/anime/15133/Aoi_Sekai_...</td>\n",
       "      <td>MAL</td>\n",
       "    </tr>\n",
       "    <tr>\n",
       "      <th>15390</th>\n",
       "      <td>Big Order</td>\n",
       "      <td>NaN</td>\n",
       "      <td>OVA</td>\n",
       "      <td>1.0</td>\n",
       "      <td>30458.0</td>\n",
       "      <td>5.85</td>\n",
       "      <td>['Action', 'Super Power', 'Shounen']</td>\n",
       "      <td>Oct 2015 - Oct 2015</td>\n",
       "      <td>https://myanimelist.net/anime/30137/Big_Order</td>\n",
       "      <td>MAL</td>\n",
       "    </tr>\n",
       "    <tr>\n",
       "      <th>15391</th>\n",
       "      <td>Boku no Imouto wa \"Osaka Okan\": Uchi no Oniich...</td>\n",
       "      <td>NaN</td>\n",
       "      <td>Special</td>\n",
       "      <td>1.0</td>\n",
       "      <td>3272.0</td>\n",
       "      <td>5.85</td>\n",
       "      <td>['Comedy']</td>\n",
       "      <td>Apr 2013 - Apr 2013</td>\n",
       "      <td>https://myanimelist.net/anime/18419/Boku_no_Im...</td>\n",
       "      <td>MAL</td>\n",
       "    </tr>\n",
       "    <tr>\n",
       "      <th>15392</th>\n",
       "      <td>Daitan Futeki ni Koi Shitai</td>\n",
       "      <td>NaN</td>\n",
       "      <td>Music</td>\n",
       "      <td>1.0</td>\n",
       "      <td>207.0</td>\n",
       "      <td>5.85</td>\n",
       "      <td>['Music']</td>\n",
       "      <td>Nov 2018 - Nov 2018</td>\n",
       "      <td>https://myanimelist.net/anime/38487/Daitan_Fut...</td>\n",
       "      <td>MAL</td>\n",
       "    </tr>\n",
       "    <tr>\n",
       "      <th>15393</th>\n",
       "      <td>Dededen</td>\n",
       "      <td>NaN</td>\n",
       "      <td>Special</td>\n",
       "      <td>5.0</td>\n",
       "      <td>362.0</td>\n",
       "      <td>5.84</td>\n",
       "      <td>['Slice of Life']</td>\n",
       "      <td>Feb 2015 - Dec 2015</td>\n",
       "      <td>https://myanimelist.net/anime/30289/Dededen</td>\n",
       "      <td>MAL</td>\n",
       "    </tr>\n",
       "  </tbody>\n",
       "</table>\n",
       "</div>"
      ],
      "text/plain": [
       "                                                    name    english_name  \\\n",
       "15389                           Aoi Sekai no Chuushin de  World War Blue   \n",
       "15390                                          Big Order             NaN   \n",
       "15391  Boku no Imouto wa \"Osaka Okan\": Uchi no Oniich...             NaN   \n",
       "15392                        Daitan Futeki ni Koi Shitai             NaN   \n",
       "15393                                            Dededen             NaN   \n",
       "\n",
       "          type  episodes  members  rating  \\\n",
       "15389  Special       3.0  39823.0    5.84   \n",
       "15390      OVA       1.0  30458.0    5.85   \n",
       "15391  Special       1.0   3272.0    5.85   \n",
       "15392    Music       1.0    207.0    5.85   \n",
       "15393  Special       5.0    362.0    5.84   \n",
       "\n",
       "                                                   genre  \\\n",
       "15389  ['Action', 'Adventure', 'Ecchi', 'Fantasy', 'P...   \n",
       "15390               ['Action', 'Super Power', 'Shounen']   \n",
       "15391                                         ['Comedy']   \n",
       "15392                                          ['Music']   \n",
       "15393                                  ['Slice of Life']   \n",
       "\n",
       "                             dates  \\\n",
       "15389          Oct 2012 - Apr 2013   \n",
       "15390          Oct 2015 - Oct 2015   \n",
       "15391          Apr 2013 - Apr 2013   \n",
       "15392          Nov 2018 - Nov 2018   \n",
       "15393          Feb 2015 - Dec 2015   \n",
       "\n",
       "                                                     url rating_type  \n",
       "15389  https://myanimelist.net/anime/15133/Aoi_Sekai_...         MAL  \n",
       "15390      https://myanimelist.net/anime/30137/Big_Order         MAL  \n",
       "15391  https://myanimelist.net/anime/18419/Boku_no_Im...         MAL  \n",
       "15392  https://myanimelist.net/anime/38487/Daitan_Fut...         MAL  \n",
       "15393        https://myanimelist.net/anime/30289/Dededen         MAL  "
      ]
     },
     "execution_count": 31,
     "metadata": {},
     "output_type": "execute_result"
    }
   ],
   "source": [
    "anime_db.tail()"
   ]
  },
  {
   "cell_type": "code",
   "execution_count": 32,
   "metadata": {},
   "outputs": [],
   "source": [
    "anime_db.to_csv(\"./data/MAL_update_rating.csv\")"
   ]
  },
  {
   "cell_type": "code",
   "execution_count": 33,
   "metadata": {},
   "outputs": [],
   "source": [
    "# anime_db = pd.read_csv(\"../data/MAL_update_rating.csv\")"
   ]
  },
  {
   "cell_type": "markdown",
   "metadata": {},
   "source": [
    "### More data pre processing\n",
    "\n",
    "Further data pre-processing:\n",
    "\n",
    "1. Check and fix the 'types' column\n",
    "2. Check for missing data in the genre. In some cases the genre just returned an empty '[]'\n",
    "3. create dummy features for the genres and type features\n"
   ]
  },
  {
   "cell_type": "code",
   "execution_count": 34,
   "metadata": {},
   "outputs": [
    {
     "data": {
      "text/plain": [
       "array(['Movie', 'Music', 'TV', 'OVA', 'ONA', 'Special', 'Unknown'],\n",
       "      dtype=object)"
      ]
     },
     "execution_count": 34,
     "metadata": {},
     "output_type": "execute_result"
    }
   ],
   "source": [
    "# uniqe values in the 'type' column\n",
    "anime_db['type'].unique()"
   ]
  },
  {
   "cell_type": "markdown",
   "metadata": {
    "jupyter": {
     "outputs_hidden": true
    }
   },
   "source": [
    "probably shuld chnage \"unknown\" to Unknown_type"
   ]
  },
  {
   "cell_type": "code",
   "execution_count": 35,
   "metadata": {},
   "outputs": [
    {
     "data": {
      "text/plain": [
       "array(['Movie', 'Music', 'TV', 'OVA', 'ONA', 'Special', 'Unknown_type'],\n",
       "      dtype=object)"
      ]
     },
     "execution_count": 35,
     "metadata": {},
     "output_type": "execute_result"
    }
   ],
   "source": [
    "anime_db['type'].replace(\"Unknown\",\"Unknown_type\",inplace=True)\n",
    "anime_db['type'].unique()"
   ]
  },
  {
   "cell_type": "code",
   "execution_count": 36,
   "metadata": {},
   "outputs": [
    {
     "data": {
      "text/plain": [
       "68"
      ]
     },
     "execution_count": 36,
     "metadata": {},
     "output_type": "execute_result"
    }
   ],
   "source": [
    "# look for empty '[]' in the genre column\n",
    "sum(anime_db.genre.str.match('\\[(.+)\\]') == False)"
   ]
  },
  {
   "cell_type": "code",
   "execution_count": 37,
   "metadata": {},
   "outputs": [
    {
     "data": {
      "text/html": [
       "<div>\n",
       "<style scoped>\n",
       "    .dataframe tbody tr th:only-of-type {\n",
       "        vertical-align: middle;\n",
       "    }\n",
       "\n",
       "    .dataframe tbody tr th {\n",
       "        vertical-align: top;\n",
       "    }\n",
       "\n",
       "    .dataframe thead th {\n",
       "        text-align: right;\n",
       "    }\n",
       "</style>\n",
       "<table border=\"1\" class=\"dataframe\">\n",
       "  <thead>\n",
       "    <tr style=\"text-align: right;\">\n",
       "      <th></th>\n",
       "      <th>name</th>\n",
       "      <th>english_name</th>\n",
       "      <th>type</th>\n",
       "      <th>episodes</th>\n",
       "      <th>members</th>\n",
       "      <th>rating</th>\n",
       "      <th>genre</th>\n",
       "      <th>dates</th>\n",
       "      <th>url</th>\n",
       "      <th>rating_type</th>\n",
       "    </tr>\n",
       "  </thead>\n",
       "  <tbody>\n",
       "    <tr>\n",
       "      <th>78</th>\n",
       "      <td>Scripta Volant</td>\n",
       "      <td>Writings Fly Away</td>\n",
       "      <td>Movie</td>\n",
       "      <td>1.0</td>\n",
       "      <td>143.0</td>\n",
       "      <td>5.396505</td>\n",
       "      <td>[]</td>\n",
       "      <td>2011 - 2011</td>\n",
       "      <td>https://myanimelist.net/anime/33318/Scripta_Vo...</td>\n",
       "      <td>modelled</td>\n",
       "    </tr>\n",
       "    <tr>\n",
       "      <th>102</th>\n",
       "      <td>Mabeob Chunjamun: Daemawang-ui Buhwal-eul Mag-ala</td>\n",
       "      <td>NaN</td>\n",
       "      <td>Movie</td>\n",
       "      <td>1.0</td>\n",
       "      <td>104.0</td>\n",
       "      <td>5.297355</td>\n",
       "      <td>[]</td>\n",
       "      <td>2010 - 2010</td>\n",
       "      <td>https://myanimelist.net/anime/30055/Mabeob_Chu...</td>\n",
       "      <td>modelled</td>\n",
       "    </tr>\n",
       "    <tr>\n",
       "      <th>315</th>\n",
       "      <td>Ichi-gan Kuni</td>\n",
       "      <td>NaN</td>\n",
       "      <td>Movie</td>\n",
       "      <td>1.0</td>\n",
       "      <td>103.0</td>\n",
       "      <td>5.294347</td>\n",
       "      <td>[]</td>\n",
       "      <td>2009 - 2009</td>\n",
       "      <td>https://myanimelist.net/anime/31509/Ichi-gan_Kuni</td>\n",
       "      <td>modelled</td>\n",
       "    </tr>\n",
       "    <tr>\n",
       "      <th>341</th>\n",
       "      <td>Ikite Iru</td>\n",
       "      <td>NaN</td>\n",
       "      <td>OVA</td>\n",
       "      <td>1.0</td>\n",
       "      <td>95.0</td>\n",
       "      <td>5.269173</td>\n",
       "      <td>[]</td>\n",
       "      <td>1996 - 1996</td>\n",
       "      <td>https://myanimelist.net/anime/28487/Ikite_Iru</td>\n",
       "      <td>modelled</td>\n",
       "    </tr>\n",
       "    <tr>\n",
       "      <th>372</th>\n",
       "      <td>Hello WeGo!</td>\n",
       "      <td>NaN</td>\n",
       "      <td>Movie</td>\n",
       "      <td>1.0</td>\n",
       "      <td>363.0</td>\n",
       "      <td>5.686546</td>\n",
       "      <td>[]</td>\n",
       "      <td>Mar 2019 - Mar 2019</td>\n",
       "      <td>https://myanimelist.net/anime/38011/Hello_WeGo</td>\n",
       "      <td>modelled</td>\n",
       "    </tr>\n",
       "    <tr>\n",
       "      <th>...</th>\n",
       "      <td>...</td>\n",
       "      <td>...</td>\n",
       "      <td>...</td>\n",
       "      <td>...</td>\n",
       "      <td>...</td>\n",
       "      <td>...</td>\n",
       "      <td>...</td>\n",
       "      <td>...</td>\n",
       "      <td>...</td>\n",
       "      <td>...</td>\n",
       "    </tr>\n",
       "    <tr>\n",
       "      <th>11076</th>\n",
       "      <td>Match Shoujo</td>\n",
       "      <td>The Little Match Girl</td>\n",
       "      <td>ONA</td>\n",
       "      <td>1.0</td>\n",
       "      <td>753.0</td>\n",
       "      <td>5.770000</td>\n",
       "      <td>[]</td>\n",
       "      <td>Feb 2016 - Feb 2016</td>\n",
       "      <td>https://myanimelist.net/anime/32695/Match_Shoujo</td>\n",
       "      <td>MAL</td>\n",
       "    </tr>\n",
       "    <tr>\n",
       "      <th>11503</th>\n",
       "      <td>Katsudou Shashin</td>\n",
       "      <td>NaN</td>\n",
       "      <td>Movie</td>\n",
       "      <td>1.0</td>\n",
       "      <td>3960.0</td>\n",
       "      <td>5.470000</td>\n",
       "      <td>[]</td>\n",
       "      <td>-</td>\n",
       "      <td>https://myanimelist.net/anime/33187/Katsudou_S...</td>\n",
       "      <td>MAL</td>\n",
       "    </tr>\n",
       "    <tr>\n",
       "      <th>12328</th>\n",
       "      <td>Hokori Inu no Hanashi</td>\n",
       "      <td>The Cloudy Dog Talk About</td>\n",
       "      <td>ONA</td>\n",
       "      <td>1.0</td>\n",
       "      <td>238.0</td>\n",
       "      <td>5.650000</td>\n",
       "      <td>[]</td>\n",
       "      <td>Feb 2013 - Feb 2013</td>\n",
       "      <td>https://myanimelist.net/anime/32636/Hokori_Inu...</td>\n",
       "      <td>MAL</td>\n",
       "    </tr>\n",
       "    <tr>\n",
       "      <th>13039</th>\n",
       "      <td>Mormorando</td>\n",
       "      <td>NaN</td>\n",
       "      <td>Movie</td>\n",
       "      <td>1.0</td>\n",
       "      <td>408.0</td>\n",
       "      <td>5.400000</td>\n",
       "      <td>[]</td>\n",
       "      <td>Sep 2014 - Sep 2014</td>\n",
       "      <td>https://myanimelist.net/anime/31834/Mormorando</td>\n",
       "      <td>MAL</td>\n",
       "    </tr>\n",
       "    <tr>\n",
       "      <th>15376</th>\n",
       "      <td>Metropolis (2009)</td>\n",
       "      <td>NaN</td>\n",
       "      <td>Movie</td>\n",
       "      <td>1.0</td>\n",
       "      <td>672.0</td>\n",
       "      <td>5.870000</td>\n",
       "      <td>[]</td>\n",
       "      <td>2009 - 2009</td>\n",
       "      <td>https://myanimelist.net/anime/29765/Metropolis...</td>\n",
       "      <td>MAL</td>\n",
       "    </tr>\n",
       "  </tbody>\n",
       "</table>\n",
       "<p>68 rows × 10 columns</p>\n",
       "</div>"
      ],
      "text/plain": [
       "                                                    name  \\\n",
       "78                                        Scripta Volant   \n",
       "102    Mabeob Chunjamun: Daemawang-ui Buhwal-eul Mag-ala   \n",
       "315                                        Ichi-gan Kuni   \n",
       "341                                            Ikite Iru   \n",
       "372                                          Hello WeGo!   \n",
       "...                                                  ...   \n",
       "11076                                       Match Shoujo   \n",
       "11503                                   Katsudou Shashin   \n",
       "12328                              Hokori Inu no Hanashi   \n",
       "13039                                         Mormorando   \n",
       "15376                                  Metropolis (2009)   \n",
       "\n",
       "                    english_name   type  episodes  members    rating genre  \\\n",
       "78             Writings Fly Away  Movie       1.0    143.0  5.396505    []   \n",
       "102                          NaN  Movie       1.0    104.0  5.297355    []   \n",
       "315                          NaN  Movie       1.0    103.0  5.294347    []   \n",
       "341                          NaN    OVA       1.0     95.0  5.269173    []   \n",
       "372                          NaN  Movie       1.0    363.0  5.686546    []   \n",
       "...                          ...    ...       ...      ...       ...   ...   \n",
       "11076      The Little Match Girl    ONA       1.0    753.0  5.770000    []   \n",
       "11503                        NaN  Movie       1.0   3960.0  5.470000    []   \n",
       "12328  The Cloudy Dog Talk About    ONA       1.0    238.0  5.650000    []   \n",
       "13039                        NaN  Movie       1.0    408.0  5.400000    []   \n",
       "15376                        NaN  Movie       1.0    672.0  5.870000    []   \n",
       "\n",
       "                             dates  \\\n",
       "78                     2011 - 2011   \n",
       "102                    2010 - 2010   \n",
       "315                    2009 - 2009   \n",
       "341                    1996 - 1996   \n",
       "372            Mar 2019 - Mar 2019   \n",
       "...                            ...   \n",
       "11076          Feb 2016 - Feb 2016   \n",
       "11503                           -    \n",
       "12328          Feb 2013 - Feb 2013   \n",
       "13039          Sep 2014 - Sep 2014   \n",
       "15376                  2009 - 2009   \n",
       "\n",
       "                                                     url rating_type  \n",
       "78     https://myanimelist.net/anime/33318/Scripta_Vo...    modelled  \n",
       "102    https://myanimelist.net/anime/30055/Mabeob_Chu...    modelled  \n",
       "315    https://myanimelist.net/anime/31509/Ichi-gan_Kuni    modelled  \n",
       "341        https://myanimelist.net/anime/28487/Ikite_Iru    modelled  \n",
       "372       https://myanimelist.net/anime/38011/Hello_WeGo    modelled  \n",
       "...                                                  ...         ...  \n",
       "11076   https://myanimelist.net/anime/32695/Match_Shoujo         MAL  \n",
       "11503  https://myanimelist.net/anime/33187/Katsudou_S...         MAL  \n",
       "12328  https://myanimelist.net/anime/32636/Hokori_Inu...         MAL  \n",
       "13039     https://myanimelist.net/anime/31834/Mormorando         MAL  \n",
       "15376  https://myanimelist.net/anime/29765/Metropolis...         MAL  \n",
       "\n",
       "[68 rows x 10 columns]"
      ]
     },
     "execution_count": 37,
     "metadata": {},
     "output_type": "execute_result"
    }
   ],
   "source": [
    "anime_db[anime_db.genre.str.match('\\[(.+)\\]') == False]"
   ]
  },
  {
   "cell_type": "markdown",
   "metadata": {},
   "source": [
    "This data seems incomplete. In the future we'll want to verify this dataset is up to date. For now, I'll label these genres unknown_genre"
   ]
  },
  {
   "cell_type": "code",
   "execution_count": 38,
   "metadata": {},
   "outputs": [],
   "source": [
    "anime_db['genre'].replace('[]', '[unknown_genre]', inplace=True)"
   ]
  },
  {
   "cell_type": "code",
   "execution_count": 39,
   "metadata": {},
   "outputs": [
    {
     "data": {
      "text/plain": [
       "0"
      ]
     },
     "execution_count": 39,
     "metadata": {},
     "output_type": "execute_result"
    }
   ],
   "source": [
    "sum(anime_db.genre.str.match('\\[(.+)\\]') == False)"
   ]
  },
  {
   "cell_type": "markdown",
   "metadata": {},
   "source": [
    "### Genre\n",
    "\n",
    "Now that we have sorted the missing data and did some conversions, we need to select our features. Planning to use: genre, type and rating as the feature space\n",
    "\n",
    "Let's filter out any unnecessary characters from the genre field for ease of use."
   ]
  },
  {
   "cell_type": "code",
   "execution_count": 40,
   "metadata": {},
   "outputs": [],
   "source": [
    "anime_db = anime_db.reset_index(drop = True)"
   ]
  },
  {
   "cell_type": "code",
   "execution_count": 41,
   "metadata": {},
   "outputs": [
    {
     "data": {
      "text/plain": [
       "\"['Dementia']\""
      ]
     },
     "execution_count": 41,
     "metadata": {},
     "output_type": "execute_result"
    }
   ],
   "source": [
    "anime_db.genre[0]"
   ]
  },
  {
   "cell_type": "code",
   "execution_count": 42,
   "metadata": {},
   "outputs": [
    {
     "data": {
      "text/plain": [
       "name            15394\n",
       "english_name     4831\n",
       "type            15394\n",
       "episodes        14956\n",
       "members         15394\n",
       "rating          15394\n",
       "genre           15394\n",
       "dates           15394\n",
       "url             15394\n",
       "rating_type     15394\n",
       "dtype: int64"
      ]
     },
     "execution_count": 42,
     "metadata": {},
     "output_type": "execute_result"
    }
   ],
   "source": [
    "anime_db.shape\n",
    "anime_db.count()"
   ]
  },
  {
   "cell_type": "code",
   "execution_count": 43,
   "metadata": {},
   "outputs": [
    {
     "name": "stdout",
     "output_type": "stream",
     "text": [
      "[\"'\", 'A', 'c', 't', 'i', 'o', 'n', \"'\"]\n",
      "[' ', \"'\", 'S', 'u', 'p', 'e', 'r', ' ', 'P', 'o', 'w', 'e', 'r', \"'\"]\n",
      "[' ', \"'\", 'S', 'h', 'o', 'u', 'n', 'e', 'n', \"'\"]\n"
     ]
    },
    {
     "data": {
      "text/plain": [
       "['Action', 'SuperPower', 'Shounen']"
      ]
     },
     "execution_count": 43,
     "metadata": {},
     "output_type": "execute_result"
    }
   ],
   "source": [
    "g = list()\n",
    "for e in anime_db.genre[15390].split(\",\"):\n",
    "    l = [x for x in e if x not in \"[]\"]\n",
    "    print(l)\n",
    "    g.append(\"\".join(x for x in l if x not in \"'‘ ’ '\"))\n",
    "g"
   ]
  },
  {
   "cell_type": "code",
   "execution_count": 44,
   "metadata": {},
   "outputs": [
    {
     "name": "stdout",
     "output_type": "stream",
     "text": [
      "[\"'\", 'D', 'e', 'm', 'e', 'n', 't', 'i', 'a', \"'\"]\n"
     ]
    },
    {
     "data": {
      "text/plain": [
       "['Dementia']"
      ]
     },
     "execution_count": 44,
     "metadata": {},
     "output_type": "execute_result"
    }
   ],
   "source": [
    "g = list()\n",
    "for e in anime_db.genre[0].split(\",\"):\n",
    "    l = [x for x in e if x not in \"[]\"]\n",
    "    print(l)\n",
    "    g.append(\"\".join(x for x in l if x not in \"'‘ ’ '\"))\n",
    "g"
   ]
  },
  {
   "cell_type": "code",
   "execution_count": 45,
   "metadata": {},
   "outputs": [
    {
     "name": "stderr",
     "output_type": "stream",
     "text": [
      "/tmp/ipykernel_116/1215244638.py:6: SettingWithCopyWarning: \n",
      "A value is trying to be set on a copy of a slice from a DataFrame\n",
      "\n",
      "See the caveats in the documentation: https://pandas.pydata.org/pandas-docs/stable/user_guide/indexing.html#returning-a-view-versus-a-copy\n",
      "  anime_db.genre[i] = g\n"
     ]
    }
   ],
   "source": [
    "for i in range(0,anime_db.shape[0]):\n",
    "    g = list()\n",
    "    for e in anime_db.genre[i].split(\",\"):\n",
    "        l = [x for x in e if x not in \"[]\"]\n",
    "        g.append(\"\".join(x for x in l if x not in \"'‘ ’ '\"))\n",
    "    anime_db.genre[i] = g"
   ]
  },
  {
   "cell_type": "code",
   "execution_count": 46,
   "metadata": {},
   "outputs": [
    {
     "data": {
      "text/plain": [
       "15294                               [Action, Mecha, Music]\n",
       "15295                                      [Music, School]\n",
       "15296                              [Action, Sci-Fi, Mecha]\n",
       "15297           [Comedy, Parody, Romance, School, Shounen]\n",
       "15298                                      [Music, Demons]\n",
       "                               ...                        \n",
       "15389    [Action, Adventure, Ecchi, Fantasy, Parody, Sh...\n",
       "15390                        [Action, SuperPower, Shounen]\n",
       "15391                                             [Comedy]\n",
       "15392                                              [Music]\n",
       "15393                                        [SliceofLife]\n",
       "Name: genre, Length: 100, dtype: object"
      ]
     },
     "execution_count": 46,
     "metadata": {},
     "output_type": "execute_result"
    }
   ],
   "source": [
    "anime_db.genre.tail(100)"
   ]
  },
  {
   "cell_type": "code",
   "execution_count": 47,
   "metadata": {},
   "outputs": [
    {
     "data": {
      "text/plain": [
       "['Dementia']"
      ]
     },
     "execution_count": 47,
     "metadata": {},
     "output_type": "execute_result"
    }
   ],
   "source": [
    "anime_db.genre[0]"
   ]
  },
  {
   "cell_type": "markdown",
   "metadata": {},
   "source": [
    "## Generate features\n",
    "\n",
    "Good now with the genere colum fixed, we can create the list of features for our classifier.\n"
   ]
  },
  {
   "cell_type": "code",
   "execution_count": 48,
   "metadata": {},
   "outputs": [],
   "source": [
    "# save the dataset\n",
    "anime_db.to_csv(\"./data/MAL_final.csv\",index=False)\n"
   ]
  },
  {
   "cell_type": "code",
   "execution_count": 49,
   "metadata": {},
   "outputs": [
    {
     "data": {
      "text/html": [
       "<div>\n",
       "<style scoped>\n",
       "    .dataframe tbody tr th:only-of-type {\n",
       "        vertical-align: middle;\n",
       "    }\n",
       "\n",
       "    .dataframe tbody tr th {\n",
       "        vertical-align: top;\n",
       "    }\n",
       "\n",
       "    .dataframe thead th {\n",
       "        text-align: right;\n",
       "    }\n",
       "</style>\n",
       "<table border=\"1\" class=\"dataframe\">\n",
       "  <thead>\n",
       "    <tr style=\"text-align: right;\">\n",
       "      <th></th>\n",
       "      <th>Action</th>\n",
       "      <th>Adventure</th>\n",
       "      <th>Cars</th>\n",
       "      <th>Comedy</th>\n",
       "      <th>Dementia</th>\n",
       "      <th>Demons</th>\n",
       "      <th>Drama</th>\n",
       "      <th>Ecchi</th>\n",
       "      <th>Fantasy</th>\n",
       "      <th>Game</th>\n",
       "      <th>...</th>\n",
       "      <th>SliceofLife</th>\n",
       "      <th>Space</th>\n",
       "      <th>Sports</th>\n",
       "      <th>SuperPower</th>\n",
       "      <th>Supernatural</th>\n",
       "      <th>Thriller</th>\n",
       "      <th>Vampire</th>\n",
       "      <th>Yaoi</th>\n",
       "      <th>Yuri</th>\n",
       "      <th>unknown_genre</th>\n",
       "    </tr>\n",
       "  </thead>\n",
       "  <tbody>\n",
       "    <tr>\n",
       "      <th>0</th>\n",
       "      <td>0</td>\n",
       "      <td>0</td>\n",
       "      <td>0</td>\n",
       "      <td>0</td>\n",
       "      <td>1</td>\n",
       "      <td>0</td>\n",
       "      <td>0</td>\n",
       "      <td>0</td>\n",
       "      <td>0</td>\n",
       "      <td>0</td>\n",
       "      <td>...</td>\n",
       "      <td>0</td>\n",
       "      <td>0</td>\n",
       "      <td>0</td>\n",
       "      <td>0</td>\n",
       "      <td>0</td>\n",
       "      <td>0</td>\n",
       "      <td>0</td>\n",
       "      <td>0</td>\n",
       "      <td>0</td>\n",
       "      <td>0</td>\n",
       "    </tr>\n",
       "    <tr>\n",
       "      <th>1</th>\n",
       "      <td>0</td>\n",
       "      <td>0</td>\n",
       "      <td>0</td>\n",
       "      <td>0</td>\n",
       "      <td>0</td>\n",
       "      <td>0</td>\n",
       "      <td>0</td>\n",
       "      <td>0</td>\n",
       "      <td>0</td>\n",
       "      <td>0</td>\n",
       "      <td>...</td>\n",
       "      <td>0</td>\n",
       "      <td>0</td>\n",
       "      <td>0</td>\n",
       "      <td>0</td>\n",
       "      <td>0</td>\n",
       "      <td>0</td>\n",
       "      <td>0</td>\n",
       "      <td>0</td>\n",
       "      <td>0</td>\n",
       "      <td>0</td>\n",
       "    </tr>\n",
       "    <tr>\n",
       "      <th>2</th>\n",
       "      <td>0</td>\n",
       "      <td>0</td>\n",
       "      <td>0</td>\n",
       "      <td>1</td>\n",
       "      <td>0</td>\n",
       "      <td>0</td>\n",
       "      <td>0</td>\n",
       "      <td>0</td>\n",
       "      <td>0</td>\n",
       "      <td>0</td>\n",
       "      <td>...</td>\n",
       "      <td>0</td>\n",
       "      <td>0</td>\n",
       "      <td>0</td>\n",
       "      <td>0</td>\n",
       "      <td>0</td>\n",
       "      <td>0</td>\n",
       "      <td>0</td>\n",
       "      <td>0</td>\n",
       "      <td>0</td>\n",
       "      <td>0</td>\n",
       "    </tr>\n",
       "    <tr>\n",
       "      <th>3</th>\n",
       "      <td>0</td>\n",
       "      <td>0</td>\n",
       "      <td>0</td>\n",
       "      <td>1</td>\n",
       "      <td>0</td>\n",
       "      <td>0</td>\n",
       "      <td>0</td>\n",
       "      <td>0</td>\n",
       "      <td>0</td>\n",
       "      <td>0</td>\n",
       "      <td>...</td>\n",
       "      <td>0</td>\n",
       "      <td>0</td>\n",
       "      <td>0</td>\n",
       "      <td>0</td>\n",
       "      <td>0</td>\n",
       "      <td>0</td>\n",
       "      <td>0</td>\n",
       "      <td>0</td>\n",
       "      <td>0</td>\n",
       "      <td>0</td>\n",
       "    </tr>\n",
       "    <tr>\n",
       "      <th>4</th>\n",
       "      <td>0</td>\n",
       "      <td>0</td>\n",
       "      <td>0</td>\n",
       "      <td>0</td>\n",
       "      <td>1</td>\n",
       "      <td>0</td>\n",
       "      <td>0</td>\n",
       "      <td>0</td>\n",
       "      <td>0</td>\n",
       "      <td>0</td>\n",
       "      <td>...</td>\n",
       "      <td>0</td>\n",
       "      <td>0</td>\n",
       "      <td>0</td>\n",
       "      <td>0</td>\n",
       "      <td>0</td>\n",
       "      <td>0</td>\n",
       "      <td>0</td>\n",
       "      <td>0</td>\n",
       "      <td>0</td>\n",
       "      <td>0</td>\n",
       "    </tr>\n",
       "    <tr>\n",
       "      <th>...</th>\n",
       "      <td>...</td>\n",
       "      <td>...</td>\n",
       "      <td>...</td>\n",
       "      <td>...</td>\n",
       "      <td>...</td>\n",
       "      <td>...</td>\n",
       "      <td>...</td>\n",
       "      <td>...</td>\n",
       "      <td>...</td>\n",
       "      <td>...</td>\n",
       "      <td>...</td>\n",
       "      <td>...</td>\n",
       "      <td>...</td>\n",
       "      <td>...</td>\n",
       "      <td>...</td>\n",
       "      <td>...</td>\n",
       "      <td>...</td>\n",
       "      <td>...</td>\n",
       "      <td>...</td>\n",
       "      <td>...</td>\n",
       "      <td>...</td>\n",
       "    </tr>\n",
       "    <tr>\n",
       "      <th>15389</th>\n",
       "      <td>1</td>\n",
       "      <td>1</td>\n",
       "      <td>0</td>\n",
       "      <td>0</td>\n",
       "      <td>0</td>\n",
       "      <td>0</td>\n",
       "      <td>0</td>\n",
       "      <td>1</td>\n",
       "      <td>1</td>\n",
       "      <td>0</td>\n",
       "      <td>...</td>\n",
       "      <td>0</td>\n",
       "      <td>0</td>\n",
       "      <td>0</td>\n",
       "      <td>0</td>\n",
       "      <td>0</td>\n",
       "      <td>0</td>\n",
       "      <td>0</td>\n",
       "      <td>0</td>\n",
       "      <td>0</td>\n",
       "      <td>0</td>\n",
       "    </tr>\n",
       "    <tr>\n",
       "      <th>15390</th>\n",
       "      <td>1</td>\n",
       "      <td>0</td>\n",
       "      <td>0</td>\n",
       "      <td>0</td>\n",
       "      <td>0</td>\n",
       "      <td>0</td>\n",
       "      <td>0</td>\n",
       "      <td>0</td>\n",
       "      <td>0</td>\n",
       "      <td>0</td>\n",
       "      <td>...</td>\n",
       "      <td>0</td>\n",
       "      <td>0</td>\n",
       "      <td>0</td>\n",
       "      <td>1</td>\n",
       "      <td>0</td>\n",
       "      <td>0</td>\n",
       "      <td>0</td>\n",
       "      <td>0</td>\n",
       "      <td>0</td>\n",
       "      <td>0</td>\n",
       "    </tr>\n",
       "    <tr>\n",
       "      <th>15391</th>\n",
       "      <td>0</td>\n",
       "      <td>0</td>\n",
       "      <td>0</td>\n",
       "      <td>1</td>\n",
       "      <td>0</td>\n",
       "      <td>0</td>\n",
       "      <td>0</td>\n",
       "      <td>0</td>\n",
       "      <td>0</td>\n",
       "      <td>0</td>\n",
       "      <td>...</td>\n",
       "      <td>0</td>\n",
       "      <td>0</td>\n",
       "      <td>0</td>\n",
       "      <td>0</td>\n",
       "      <td>0</td>\n",
       "      <td>0</td>\n",
       "      <td>0</td>\n",
       "      <td>0</td>\n",
       "      <td>0</td>\n",
       "      <td>0</td>\n",
       "    </tr>\n",
       "    <tr>\n",
       "      <th>15392</th>\n",
       "      <td>0</td>\n",
       "      <td>0</td>\n",
       "      <td>0</td>\n",
       "      <td>0</td>\n",
       "      <td>0</td>\n",
       "      <td>0</td>\n",
       "      <td>0</td>\n",
       "      <td>0</td>\n",
       "      <td>0</td>\n",
       "      <td>0</td>\n",
       "      <td>...</td>\n",
       "      <td>0</td>\n",
       "      <td>0</td>\n",
       "      <td>0</td>\n",
       "      <td>0</td>\n",
       "      <td>0</td>\n",
       "      <td>0</td>\n",
       "      <td>0</td>\n",
       "      <td>0</td>\n",
       "      <td>0</td>\n",
       "      <td>0</td>\n",
       "    </tr>\n",
       "    <tr>\n",
       "      <th>15393</th>\n",
       "      <td>0</td>\n",
       "      <td>0</td>\n",
       "      <td>0</td>\n",
       "      <td>0</td>\n",
       "      <td>0</td>\n",
       "      <td>0</td>\n",
       "      <td>0</td>\n",
       "      <td>0</td>\n",
       "      <td>0</td>\n",
       "      <td>0</td>\n",
       "      <td>...</td>\n",
       "      <td>1</td>\n",
       "      <td>0</td>\n",
       "      <td>0</td>\n",
       "      <td>0</td>\n",
       "      <td>0</td>\n",
       "      <td>0</td>\n",
       "      <td>0</td>\n",
       "      <td>0</td>\n",
       "      <td>0</td>\n",
       "      <td>0</td>\n",
       "    </tr>\n",
       "  </tbody>\n",
       "</table>\n",
       "<p>15394 rows × 43 columns</p>\n",
       "</div>"
      ],
      "text/plain": [
       "       Action  Adventure  Cars  Comedy  Dementia  Demons  Drama  Ecchi  \\\n",
       "0           0          0     0       0         1       0      0      0   \n",
       "1           0          0     0       0         0       0      0      0   \n",
       "2           0          0     0       1         0       0      0      0   \n",
       "3           0          0     0       1         0       0      0      0   \n",
       "4           0          0     0       0         1       0      0      0   \n",
       "...       ...        ...   ...     ...       ...     ...    ...    ...   \n",
       "15389       1          1     0       0         0       0      0      1   \n",
       "15390       1          0     0       0         0       0      0      0   \n",
       "15391       0          0     0       1         0       0      0      0   \n",
       "15392       0          0     0       0         0       0      0      0   \n",
       "15393       0          0     0       0         0       0      0      0   \n",
       "\n",
       "       Fantasy  Game  ...  SliceofLife  Space  Sports  SuperPower  \\\n",
       "0            0     0  ...            0      0       0           0   \n",
       "1            0     0  ...            0      0       0           0   \n",
       "2            0     0  ...            0      0       0           0   \n",
       "3            0     0  ...            0      0       0           0   \n",
       "4            0     0  ...            0      0       0           0   \n",
       "...        ...   ...  ...          ...    ...     ...         ...   \n",
       "15389        1     0  ...            0      0       0           0   \n",
       "15390        0     0  ...            0      0       0           1   \n",
       "15391        0     0  ...            0      0       0           0   \n",
       "15392        0     0  ...            0      0       0           0   \n",
       "15393        0     0  ...            1      0       0           0   \n",
       "\n",
       "       Supernatural  Thriller  Vampire  Yaoi  Yuri  unknown_genre  \n",
       "0                 0         0        0     0     0              0  \n",
       "1                 0         0        0     0     0              0  \n",
       "2                 0         0        0     0     0              0  \n",
       "3                 0         0        0     0     0              0  \n",
       "4                 0         0        0     0     0              0  \n",
       "...             ...       ...      ...   ...   ...            ...  \n",
       "15389             0         0        0     0     0              0  \n",
       "15390             0         0        0     0     0              0  \n",
       "15391             0         0        0     0     0              0  \n",
       "15392             0         0        0     0     0              0  \n",
       "15393             0         0        0     0     0              0  \n",
       "\n",
       "[15394 rows x 43 columns]"
      ]
     },
     "execution_count": 49,
     "metadata": {},
     "output_type": "execute_result"
    }
   ],
   "source": [
    "pd.get_dummies(anime_db.genre.apply(pd.Series).stack()).groupby(level=0).sum()"
   ]
  },
  {
   "cell_type": "code",
   "execution_count": 50,
   "metadata": {
    "collapsed": false,
    "jupyter": {
     "outputs_hidden": false
    }
   },
   "outputs": [],
   "source": [
    "anime_features = pd.concat([pd.get_dummies(anime_db.genre.apply(pd.Series).stack()).groupby(level=0).sum(),\n",
    "                            pd.get_dummies(anime_db['type']),anime_db.rating],axis=1)"
   ]
  },
  {
   "cell_type": "code",
   "execution_count": 51,
   "metadata": {},
   "outputs": [
    {
     "data": {
      "text/plain": [
       "(15394, 51)"
      ]
     },
     "execution_count": 51,
     "metadata": {},
     "output_type": "execute_result"
    }
   ],
   "source": [
    "anime_features.shape"
   ]
  },
  {
   "cell_type": "code",
   "execution_count": 52,
   "metadata": {
    "collapsed": false,
    "jupyter": {
     "outputs_hidden": false
    }
   },
   "outputs": [
    {
     "data": {
      "text/html": [
       "<div>\n",
       "<style scoped>\n",
       "    .dataframe tbody tr th:only-of-type {\n",
       "        vertical-align: middle;\n",
       "    }\n",
       "\n",
       "    .dataframe tbody tr th {\n",
       "        vertical-align: top;\n",
       "    }\n",
       "\n",
       "    .dataframe thead th {\n",
       "        text-align: right;\n",
       "    }\n",
       "</style>\n",
       "<table border=\"1\" class=\"dataframe\">\n",
       "  <thead>\n",
       "    <tr style=\"text-align: right;\">\n",
       "      <th></th>\n",
       "      <th>Action</th>\n",
       "      <th>Adventure</th>\n",
       "      <th>Cars</th>\n",
       "      <th>Comedy</th>\n",
       "      <th>Dementia</th>\n",
       "      <th>Demons</th>\n",
       "      <th>Drama</th>\n",
       "      <th>Ecchi</th>\n",
       "      <th>Fantasy</th>\n",
       "      <th>Game</th>\n",
       "      <th>Harem</th>\n",
       "      <th>Historical</th>\n",
       "      <th>Horror</th>\n",
       "      <th>Josei</th>\n",
       "      <th>Kids</th>\n",
       "      <th>Magic</th>\n",
       "      <th>MartialArts</th>\n",
       "      <th>Mecha</th>\n",
       "      <th>Military</th>\n",
       "      <th>Music</th>\n",
       "      <th>Mystery</th>\n",
       "      <th>Parody</th>\n",
       "      <th>Police</th>\n",
       "      <th>Psychological</th>\n",
       "      <th>Romance</th>\n",
       "      <th>Samurai</th>\n",
       "      <th>School</th>\n",
       "      <th>Sci-Fi</th>\n",
       "      <th>Seinen</th>\n",
       "      <th>Shoujo</th>\n",
       "      <th>ShoujoAi</th>\n",
       "      <th>Shounen</th>\n",
       "      <th>ShounenAi</th>\n",
       "      <th>SliceofLife</th>\n",
       "      <th>Space</th>\n",
       "      <th>Sports</th>\n",
       "      <th>SuperPower</th>\n",
       "      <th>Supernatural</th>\n",
       "      <th>Thriller</th>\n",
       "      <th>Vampire</th>\n",
       "      <th>Yaoi</th>\n",
       "      <th>Yuri</th>\n",
       "      <th>unknown_genre</th>\n",
       "      <th>Movie</th>\n",
       "      <th>Music</th>\n",
       "      <th>ONA</th>\n",
       "      <th>OVA</th>\n",
       "      <th>Special</th>\n",
       "      <th>TV</th>\n",
       "      <th>Unknown_type</th>\n",
       "      <th>rating</th>\n",
       "    </tr>\n",
       "  </thead>\n",
       "  <tbody>\n",
       "    <tr>\n",
       "      <th>0</th>\n",
       "      <td>0</td>\n",
       "      <td>0</td>\n",
       "      <td>0</td>\n",
       "      <td>0</td>\n",
       "      <td>1</td>\n",
       "      <td>0</td>\n",
       "      <td>0</td>\n",
       "      <td>0</td>\n",
       "      <td>0</td>\n",
       "      <td>0</td>\n",
       "      <td>0</td>\n",
       "      <td>0</td>\n",
       "      <td>0</td>\n",
       "      <td>0</td>\n",
       "      <td>0</td>\n",
       "      <td>0</td>\n",
       "      <td>0</td>\n",
       "      <td>0</td>\n",
       "      <td>0</td>\n",
       "      <td>0</td>\n",
       "      <td>0</td>\n",
       "      <td>0</td>\n",
       "      <td>0</td>\n",
       "      <td>0</td>\n",
       "      <td>0</td>\n",
       "      <td>0</td>\n",
       "      <td>0</td>\n",
       "      <td>0</td>\n",
       "      <td>0</td>\n",
       "      <td>0</td>\n",
       "      <td>0</td>\n",
       "      <td>0</td>\n",
       "      <td>0</td>\n",
       "      <td>0</td>\n",
       "      <td>0</td>\n",
       "      <td>0</td>\n",
       "      <td>0</td>\n",
       "      <td>0</td>\n",
       "      <td>0</td>\n",
       "      <td>0</td>\n",
       "      <td>0</td>\n",
       "      <td>0</td>\n",
       "      <td>0</td>\n",
       "      <td>1</td>\n",
       "      <td>0</td>\n",
       "      <td>0</td>\n",
       "      <td>0</td>\n",
       "      <td>0</td>\n",
       "      <td>0</td>\n",
       "      <td>0</td>\n",
       "      <td>5.104617</td>\n",
       "    </tr>\n",
       "    <tr>\n",
       "      <th>1</th>\n",
       "      <td>0</td>\n",
       "      <td>0</td>\n",
       "      <td>0</td>\n",
       "      <td>0</td>\n",
       "      <td>0</td>\n",
       "      <td>0</td>\n",
       "      <td>0</td>\n",
       "      <td>0</td>\n",
       "      <td>0</td>\n",
       "      <td>0</td>\n",
       "      <td>0</td>\n",
       "      <td>0</td>\n",
       "      <td>0</td>\n",
       "      <td>0</td>\n",
       "      <td>0</td>\n",
       "      <td>0</td>\n",
       "      <td>0</td>\n",
       "      <td>0</td>\n",
       "      <td>0</td>\n",
       "      <td>1</td>\n",
       "      <td>0</td>\n",
       "      <td>0</td>\n",
       "      <td>0</td>\n",
       "      <td>0</td>\n",
       "      <td>0</td>\n",
       "      <td>0</td>\n",
       "      <td>0</td>\n",
       "      <td>0</td>\n",
       "      <td>0</td>\n",
       "      <td>0</td>\n",
       "      <td>0</td>\n",
       "      <td>0</td>\n",
       "      <td>0</td>\n",
       "      <td>0</td>\n",
       "      <td>0</td>\n",
       "      <td>0</td>\n",
       "      <td>0</td>\n",
       "      <td>0</td>\n",
       "      <td>0</td>\n",
       "      <td>0</td>\n",
       "      <td>0</td>\n",
       "      <td>0</td>\n",
       "      <td>0</td>\n",
       "      <td>0</td>\n",
       "      <td>1</td>\n",
       "      <td>0</td>\n",
       "      <td>0</td>\n",
       "      <td>0</td>\n",
       "      <td>0</td>\n",
       "      <td>0</td>\n",
       "      <td>5.378581</td>\n",
       "    </tr>\n",
       "    <tr>\n",
       "      <th>2</th>\n",
       "      <td>0</td>\n",
       "      <td>0</td>\n",
       "      <td>0</td>\n",
       "      <td>1</td>\n",
       "      <td>0</td>\n",
       "      <td>0</td>\n",
       "      <td>0</td>\n",
       "      <td>0</td>\n",
       "      <td>0</td>\n",
       "      <td>0</td>\n",
       "      <td>0</td>\n",
       "      <td>0</td>\n",
       "      <td>0</td>\n",
       "      <td>0</td>\n",
       "      <td>0</td>\n",
       "      <td>0</td>\n",
       "      <td>0</td>\n",
       "      <td>0</td>\n",
       "      <td>0</td>\n",
       "      <td>0</td>\n",
       "      <td>0</td>\n",
       "      <td>0</td>\n",
       "      <td>0</td>\n",
       "      <td>0</td>\n",
       "      <td>0</td>\n",
       "      <td>0</td>\n",
       "      <td>0</td>\n",
       "      <td>0</td>\n",
       "      <td>0</td>\n",
       "      <td>0</td>\n",
       "      <td>0</td>\n",
       "      <td>0</td>\n",
       "      <td>0</td>\n",
       "      <td>0</td>\n",
       "      <td>0</td>\n",
       "      <td>0</td>\n",
       "      <td>0</td>\n",
       "      <td>0</td>\n",
       "      <td>0</td>\n",
       "      <td>0</td>\n",
       "      <td>0</td>\n",
       "      <td>0</td>\n",
       "      <td>0</td>\n",
       "      <td>1</td>\n",
       "      <td>0</td>\n",
       "      <td>0</td>\n",
       "      <td>0</td>\n",
       "      <td>0</td>\n",
       "      <td>0</td>\n",
       "      <td>0</td>\n",
       "      <td>5.576596</td>\n",
       "    </tr>\n",
       "    <tr>\n",
       "      <th>3</th>\n",
       "      <td>0</td>\n",
       "      <td>0</td>\n",
       "      <td>0</td>\n",
       "      <td>1</td>\n",
       "      <td>0</td>\n",
       "      <td>0</td>\n",
       "      <td>0</td>\n",
       "      <td>0</td>\n",
       "      <td>0</td>\n",
       "      <td>0</td>\n",
       "      <td>0</td>\n",
       "      <td>0</td>\n",
       "      <td>0</td>\n",
       "      <td>0</td>\n",
       "      <td>1</td>\n",
       "      <td>0</td>\n",
       "      <td>0</td>\n",
       "      <td>0</td>\n",
       "      <td>0</td>\n",
       "      <td>0</td>\n",
       "      <td>0</td>\n",
       "      <td>0</td>\n",
       "      <td>0</td>\n",
       "      <td>0</td>\n",
       "      <td>0</td>\n",
       "      <td>0</td>\n",
       "      <td>0</td>\n",
       "      <td>0</td>\n",
       "      <td>0</td>\n",
       "      <td>0</td>\n",
       "      <td>0</td>\n",
       "      <td>0</td>\n",
       "      <td>0</td>\n",
       "      <td>0</td>\n",
       "      <td>0</td>\n",
       "      <td>0</td>\n",
       "      <td>0</td>\n",
       "      <td>0</td>\n",
       "      <td>0</td>\n",
       "      <td>0</td>\n",
       "      <td>0</td>\n",
       "      <td>0</td>\n",
       "      <td>0</td>\n",
       "      <td>0</td>\n",
       "      <td>0</td>\n",
       "      <td>0</td>\n",
       "      <td>0</td>\n",
       "      <td>0</td>\n",
       "      <td>1</td>\n",
       "      <td>0</td>\n",
       "      <td>5.524917</td>\n",
       "    </tr>\n",
       "    <tr>\n",
       "      <th>4</th>\n",
       "      <td>0</td>\n",
       "      <td>0</td>\n",
       "      <td>0</td>\n",
       "      <td>0</td>\n",
       "      <td>1</td>\n",
       "      <td>0</td>\n",
       "      <td>0</td>\n",
       "      <td>0</td>\n",
       "      <td>0</td>\n",
       "      <td>0</td>\n",
       "      <td>0</td>\n",
       "      <td>0</td>\n",
       "      <td>0</td>\n",
       "      <td>0</td>\n",
       "      <td>0</td>\n",
       "      <td>0</td>\n",
       "      <td>0</td>\n",
       "      <td>0</td>\n",
       "      <td>0</td>\n",
       "      <td>1</td>\n",
       "      <td>0</td>\n",
       "      <td>0</td>\n",
       "      <td>0</td>\n",
       "      <td>1</td>\n",
       "      <td>0</td>\n",
       "      <td>0</td>\n",
       "      <td>0</td>\n",
       "      <td>0</td>\n",
       "      <td>0</td>\n",
       "      <td>0</td>\n",
       "      <td>0</td>\n",
       "      <td>0</td>\n",
       "      <td>0</td>\n",
       "      <td>0</td>\n",
       "      <td>0</td>\n",
       "      <td>0</td>\n",
       "      <td>0</td>\n",
       "      <td>0</td>\n",
       "      <td>0</td>\n",
       "      <td>0</td>\n",
       "      <td>0</td>\n",
       "      <td>0</td>\n",
       "      <td>0</td>\n",
       "      <td>0</td>\n",
       "      <td>1</td>\n",
       "      <td>0</td>\n",
       "      <td>0</td>\n",
       "      <td>0</td>\n",
       "      <td>0</td>\n",
       "      <td>0</td>\n",
       "      <td>5.227130</td>\n",
       "    </tr>\n",
       "  </tbody>\n",
       "</table>\n",
       "</div>"
      ],
      "text/plain": [
       "   Action  Adventure  Cars  Comedy  Dementia  Demons  Drama  Ecchi  Fantasy  \\\n",
       "0       0          0     0       0         1       0      0      0        0   \n",
       "1       0          0     0       0         0       0      0      0        0   \n",
       "2       0          0     0       1         0       0      0      0        0   \n",
       "3       0          0     0       1         0       0      0      0        0   \n",
       "4       0          0     0       0         1       0      0      0        0   \n",
       "\n",
       "   Game  Harem  Historical  Horror  Josei  Kids  Magic  MartialArts  Mecha  \\\n",
       "0     0      0           0       0      0     0      0            0      0   \n",
       "1     0      0           0       0      0     0      0            0      0   \n",
       "2     0      0           0       0      0     0      0            0      0   \n",
       "3     0      0           0       0      0     1      0            0      0   \n",
       "4     0      0           0       0      0     0      0            0      0   \n",
       "\n",
       "   Military  Music  Mystery  Parody  Police  Psychological  Romance  Samurai  \\\n",
       "0         0      0        0       0       0              0        0        0   \n",
       "1         0      1        0       0       0              0        0        0   \n",
       "2         0      0        0       0       0              0        0        0   \n",
       "3         0      0        0       0       0              0        0        0   \n",
       "4         0      1        0       0       0              1        0        0   \n",
       "\n",
       "   School  Sci-Fi  Seinen  Shoujo  ShoujoAi  Shounen  ShounenAi  SliceofLife  \\\n",
       "0       0       0       0       0         0        0          0            0   \n",
       "1       0       0       0       0         0        0          0            0   \n",
       "2       0       0       0       0         0        0          0            0   \n",
       "3       0       0       0       0         0        0          0            0   \n",
       "4       0       0       0       0         0        0          0            0   \n",
       "\n",
       "   Space  Sports  SuperPower  Supernatural  Thriller  Vampire  Yaoi  Yuri  \\\n",
       "0      0       0           0             0         0        0     0     0   \n",
       "1      0       0           0             0         0        0     0     0   \n",
       "2      0       0           0             0         0        0     0     0   \n",
       "3      0       0           0             0         0        0     0     0   \n",
       "4      0       0           0             0         0        0     0     0   \n",
       "\n",
       "   unknown_genre  Movie  Music  ONA  OVA  Special  TV  Unknown_type    rating  \n",
       "0              0      1      0    0    0        0   0             0  5.104617  \n",
       "1              0      0      1    0    0        0   0             0  5.378581  \n",
       "2              0      1      0    0    0        0   0             0  5.576596  \n",
       "3              0      0      0    0    0        0   1             0  5.524917  \n",
       "4              0      0      1    0    0        0   0             0  5.227130  "
      ]
     },
     "execution_count": 52,
     "metadata": {},
     "output_type": "execute_result"
    }
   ],
   "source": [
    "pd.options.display.max_columns = 99\n",
    "anime_features.head()"
   ]
  },
  {
   "cell_type": "code",
   "execution_count": 53,
   "metadata": {},
   "outputs": [
    {
     "data": {
      "text/html": [
       "<div>\n",
       "<style scoped>\n",
       "    .dataframe tbody tr th:only-of-type {\n",
       "        vertical-align: middle;\n",
       "    }\n",
       "\n",
       "    .dataframe tbody tr th {\n",
       "        vertical-align: top;\n",
       "    }\n",
       "\n",
       "    .dataframe thead th {\n",
       "        text-align: right;\n",
       "    }\n",
       "</style>\n",
       "<table border=\"1\" class=\"dataframe\">\n",
       "  <thead>\n",
       "    <tr style=\"text-align: right;\">\n",
       "      <th></th>\n",
       "      <th>name</th>\n",
       "      <th>english_name</th>\n",
       "      <th>type</th>\n",
       "      <th>episodes</th>\n",
       "      <th>members</th>\n",
       "      <th>rating</th>\n",
       "      <th>genre</th>\n",
       "      <th>dates</th>\n",
       "      <th>url</th>\n",
       "      <th>rating_type</th>\n",
       "    </tr>\n",
       "  </thead>\n",
       "  <tbody>\n",
       "    <tr>\n",
       "      <th>0</th>\n",
       "      <td>It's Marey O'Clock Now!</td>\n",
       "      <td>NaN</td>\n",
       "      <td>Movie</td>\n",
       "      <td>1.0</td>\n",
       "      <td>56.0</td>\n",
       "      <td>5.104617</td>\n",
       "      <td>[Dementia]</td>\n",
       "      <td>Oct 2018 - Oct 2018</td>\n",
       "      <td>https://myanimelist.net/anime/41489/Its_Marey_...</td>\n",
       "      <td>modelled</td>\n",
       "    </tr>\n",
       "    <tr>\n",
       "      <th>1</th>\n",
       "      <td>It's Show Time!</td>\n",
       "      <td>NaN</td>\n",
       "      <td>Music</td>\n",
       "      <td>1.0</td>\n",
       "      <td>135.0</td>\n",
       "      <td>5.378581</td>\n",
       "      <td>[Music]</td>\n",
       "      <td>Feb 2019 - Feb 2019</td>\n",
       "      <td>https://myanimelist.net/anime/39224/Its_Show_Time</td>\n",
       "      <td>modelled</td>\n",
       "    </tr>\n",
       "    <tr>\n",
       "      <th>2</th>\n",
       "      <td>Itazura Post</td>\n",
       "      <td>NaN</td>\n",
       "      <td>Movie</td>\n",
       "      <td>1.0</td>\n",
       "      <td>255.0</td>\n",
       "      <td>5.576596</td>\n",
       "      <td>[Comedy]</td>\n",
       "      <td>Jul 1917 - Jul 1917</td>\n",
       "      <td>https://myanimelist.net/anime/23183/Itazura_Post</td>\n",
       "      <td>modelled</td>\n",
       "    </tr>\n",
       "    <tr>\n",
       "      <th>3</th>\n",
       "      <td>Itazura Tenshi Chippo-chan</td>\n",
       "      <td>NaN</td>\n",
       "      <td>TV</td>\n",
       "      <td>240.0</td>\n",
       "      <td>216.0</td>\n",
       "      <td>5.524917</td>\n",
       "      <td>[Comedy, Kids]</td>\n",
       "      <td>Mar 1970 - Dec 1970</td>\n",
       "      <td>https://myanimelist.net/anime/20025/Itazura_Te...</td>\n",
       "      <td>modelled</td>\n",
       "    </tr>\n",
       "    <tr>\n",
       "      <th>4</th>\n",
       "      <td>Itekoma Hits</td>\n",
       "      <td>NaN</td>\n",
       "      <td>Music</td>\n",
       "      <td>1.0</td>\n",
       "      <td>83.0</td>\n",
       "      <td>5.227130</td>\n",
       "      <td>[Music, Dementia, Psychological]</td>\n",
       "      <td>Jun 2019 - Jun 2019</td>\n",
       "      <td>https://myanimelist.net/anime/40598/Itekoma_Hits</td>\n",
       "      <td>modelled</td>\n",
       "    </tr>\n",
       "  </tbody>\n",
       "</table>\n",
       "</div>"
      ],
      "text/plain": [
       "                         name english_name   type  episodes  members  \\\n",
       "0     It's Marey O'Clock Now!          NaN  Movie       1.0     56.0   \n",
       "1             It's Show Time!          NaN  Music       1.0    135.0   \n",
       "2                Itazura Post          NaN  Movie       1.0    255.0   \n",
       "3  Itazura Tenshi Chippo-chan          NaN     TV     240.0    216.0   \n",
       "4                Itekoma Hits          NaN  Music       1.0     83.0   \n",
       "\n",
       "     rating                             genre                        dates  \\\n",
       "0  5.104617                        [Dementia]          Oct 2018 - Oct 2018   \n",
       "1  5.378581                           [Music]          Feb 2019 - Feb 2019   \n",
       "2  5.576596                          [Comedy]          Jul 1917 - Jul 1917   \n",
       "3  5.524917                    [Comedy, Kids]          Mar 1970 - Dec 1970   \n",
       "4  5.227130  [Music, Dementia, Psychological]          Jun 2019 - Jun 2019   \n",
       "\n",
       "                                                 url rating_type  \n",
       "0  https://myanimelist.net/anime/41489/Its_Marey_...    modelled  \n",
       "1  https://myanimelist.net/anime/39224/Its_Show_Time    modelled  \n",
       "2   https://myanimelist.net/anime/23183/Itazura_Post    modelled  \n",
       "3  https://myanimelist.net/anime/20025/Itazura_Te...    modelled  \n",
       "4   https://myanimelist.net/anime/40598/Itekoma_Hits    modelled  "
      ]
     },
     "execution_count": 53,
     "metadata": {},
     "output_type": "execute_result"
    }
   ],
   "source": [
    "anime_db.head()"
   ]
  },
  {
   "cell_type": "code",
   "execution_count": 54,
   "metadata": {},
   "outputs": [
    {
     "data": {
      "text/html": [
       "<div>\n",
       "<style scoped>\n",
       "    .dataframe tbody tr th:only-of-type {\n",
       "        vertical-align: middle;\n",
       "    }\n",
       "\n",
       "    .dataframe tbody tr th {\n",
       "        vertical-align: top;\n",
       "    }\n",
       "\n",
       "    .dataframe thead th {\n",
       "        text-align: right;\n",
       "    }\n",
       "</style>\n",
       "<table border=\"1\" class=\"dataframe\">\n",
       "  <thead>\n",
       "    <tr style=\"text-align: right;\">\n",
       "      <th></th>\n",
       "      <th>name</th>\n",
       "      <th>english_name</th>\n",
       "      <th>type</th>\n",
       "      <th>episodes</th>\n",
       "      <th>members</th>\n",
       "      <th>rating</th>\n",
       "      <th>genre</th>\n",
       "      <th>dates</th>\n",
       "      <th>url</th>\n",
       "      <th>rating_type</th>\n",
       "    </tr>\n",
       "  </thead>\n",
       "  <tbody>\n",
       "    <tr>\n",
       "      <th>15384</th>\n",
       "      <td>Sweet Valerian Specials</td>\n",
       "      <td>NaN</td>\n",
       "      <td>Special</td>\n",
       "      <td>8.0</td>\n",
       "      <td>803.0</td>\n",
       "      <td>5.86</td>\n",
       "      <td>[Comedy, Magic, Shoujo]</td>\n",
       "      <td>Jun 2005 - Sep 2005</td>\n",
       "      <td>https://myanimelist.net/anime/3863/Sweet_Valer...</td>\n",
       "      <td>MAL</td>\n",
       "    </tr>\n",
       "    <tr>\n",
       "      <th>15385</th>\n",
       "      <td>Tonari no 801-chan R</td>\n",
       "      <td>NaN</td>\n",
       "      <td>OVA</td>\n",
       "      <td>1.0</td>\n",
       "      <td>2614.0</td>\n",
       "      <td>5.85</td>\n",
       "      <td>[Comedy, Music]</td>\n",
       "      <td>Sep 2009 - Sep 2009</td>\n",
       "      <td>https://myanimelist.net/anime/6641/Tonari_no_8...</td>\n",
       "      <td>MAL</td>\n",
       "    </tr>\n",
       "    <tr>\n",
       "      <th>15386</th>\n",
       "      <td>Ys IV: The Dawn of Ys</td>\n",
       "      <td>NaN</td>\n",
       "      <td>Special</td>\n",
       "      <td>1.0</td>\n",
       "      <td>561.0</td>\n",
       "      <td>5.86</td>\n",
       "      <td>[Action, Adventure, Fantasy, Game]</td>\n",
       "      <td>1993 - 1993</td>\n",
       "      <td>https://myanimelist.net/anime/23825/Ys_IV__The...</td>\n",
       "      <td>MAL</td>\n",
       "    </tr>\n",
       "    <tr>\n",
       "      <th>15387</th>\n",
       "      <td>Aesop's World</td>\n",
       "      <td>NaN</td>\n",
       "      <td>TV</td>\n",
       "      <td>26.0</td>\n",
       "      <td>454.0</td>\n",
       "      <td>5.85</td>\n",
       "      <td>[Kids]</td>\n",
       "      <td>Apr 1999 - Dec 1999</td>\n",
       "      <td>https://myanimelist.net/anime/4709/Aesops_World</td>\n",
       "      <td>MAL</td>\n",
       "    </tr>\n",
       "    <tr>\n",
       "      <th>15388</th>\n",
       "      <td>Animegatari</td>\n",
       "      <td>NaN</td>\n",
       "      <td>Movie</td>\n",
       "      <td>8.0</td>\n",
       "      <td>3793.0</td>\n",
       "      <td>5.84</td>\n",
       "      <td>[Comedy]</td>\n",
       "      <td>Apr 2015 - Mar 2016</td>\n",
       "      <td>https://myanimelist.net/anime/30617/Animegatari</td>\n",
       "      <td>MAL</td>\n",
       "    </tr>\n",
       "    <tr>\n",
       "      <th>15389</th>\n",
       "      <td>Aoi Sekai no Chuushin de</td>\n",
       "      <td>World War Blue</td>\n",
       "      <td>Special</td>\n",
       "      <td>3.0</td>\n",
       "      <td>39823.0</td>\n",
       "      <td>5.84</td>\n",
       "      <td>[Action, Adventure, Ecchi, Fantasy, Parody, Sh...</td>\n",
       "      <td>Oct 2012 - Apr 2013</td>\n",
       "      <td>https://myanimelist.net/anime/15133/Aoi_Sekai_...</td>\n",
       "      <td>MAL</td>\n",
       "    </tr>\n",
       "    <tr>\n",
       "      <th>15390</th>\n",
       "      <td>Big Order</td>\n",
       "      <td>NaN</td>\n",
       "      <td>OVA</td>\n",
       "      <td>1.0</td>\n",
       "      <td>30458.0</td>\n",
       "      <td>5.85</td>\n",
       "      <td>[Action, SuperPower, Shounen]</td>\n",
       "      <td>Oct 2015 - Oct 2015</td>\n",
       "      <td>https://myanimelist.net/anime/30137/Big_Order</td>\n",
       "      <td>MAL</td>\n",
       "    </tr>\n",
       "    <tr>\n",
       "      <th>15391</th>\n",
       "      <td>Boku no Imouto wa \"Osaka Okan\": Uchi no Oniich...</td>\n",
       "      <td>NaN</td>\n",
       "      <td>Special</td>\n",
       "      <td>1.0</td>\n",
       "      <td>3272.0</td>\n",
       "      <td>5.85</td>\n",
       "      <td>[Comedy]</td>\n",
       "      <td>Apr 2013 - Apr 2013</td>\n",
       "      <td>https://myanimelist.net/anime/18419/Boku_no_Im...</td>\n",
       "      <td>MAL</td>\n",
       "    </tr>\n",
       "    <tr>\n",
       "      <th>15392</th>\n",
       "      <td>Daitan Futeki ni Koi Shitai</td>\n",
       "      <td>NaN</td>\n",
       "      <td>Music</td>\n",
       "      <td>1.0</td>\n",
       "      <td>207.0</td>\n",
       "      <td>5.85</td>\n",
       "      <td>[Music]</td>\n",
       "      <td>Nov 2018 - Nov 2018</td>\n",
       "      <td>https://myanimelist.net/anime/38487/Daitan_Fut...</td>\n",
       "      <td>MAL</td>\n",
       "    </tr>\n",
       "    <tr>\n",
       "      <th>15393</th>\n",
       "      <td>Dededen</td>\n",
       "      <td>NaN</td>\n",
       "      <td>Special</td>\n",
       "      <td>5.0</td>\n",
       "      <td>362.0</td>\n",
       "      <td>5.84</td>\n",
       "      <td>[SliceofLife]</td>\n",
       "      <td>Feb 2015 - Dec 2015</td>\n",
       "      <td>https://myanimelist.net/anime/30289/Dededen</td>\n",
       "      <td>MAL</td>\n",
       "    </tr>\n",
       "  </tbody>\n",
       "</table>\n",
       "</div>"
      ],
      "text/plain": [
       "                                                    name    english_name  \\\n",
       "15384                            Sweet Valerian Specials             NaN   \n",
       "15385                               Tonari no 801-chan R             NaN   \n",
       "15386                              Ys IV: The Dawn of Ys             NaN   \n",
       "15387                                      Aesop's World             NaN   \n",
       "15388                                        Animegatari             NaN   \n",
       "15389                           Aoi Sekai no Chuushin de  World War Blue   \n",
       "15390                                          Big Order             NaN   \n",
       "15391  Boku no Imouto wa \"Osaka Okan\": Uchi no Oniich...             NaN   \n",
       "15392                        Daitan Futeki ni Koi Shitai             NaN   \n",
       "15393                                            Dededen             NaN   \n",
       "\n",
       "          type  episodes  members  rating  \\\n",
       "15384  Special       8.0    803.0    5.86   \n",
       "15385      OVA       1.0   2614.0    5.85   \n",
       "15386  Special       1.0    561.0    5.86   \n",
       "15387       TV      26.0    454.0    5.85   \n",
       "15388    Movie       8.0   3793.0    5.84   \n",
       "15389  Special       3.0  39823.0    5.84   \n",
       "15390      OVA       1.0  30458.0    5.85   \n",
       "15391  Special       1.0   3272.0    5.85   \n",
       "15392    Music       1.0    207.0    5.85   \n",
       "15393  Special       5.0    362.0    5.84   \n",
       "\n",
       "                                                   genre  \\\n",
       "15384                            [Comedy, Magic, Shoujo]   \n",
       "15385                                    [Comedy, Music]   \n",
       "15386                 [Action, Adventure, Fantasy, Game]   \n",
       "15387                                             [Kids]   \n",
       "15388                                           [Comedy]   \n",
       "15389  [Action, Adventure, Ecchi, Fantasy, Parody, Sh...   \n",
       "15390                      [Action, SuperPower, Shounen]   \n",
       "15391                                           [Comedy]   \n",
       "15392                                            [Music]   \n",
       "15393                                      [SliceofLife]   \n",
       "\n",
       "                             dates  \\\n",
       "15384          Jun 2005 - Sep 2005   \n",
       "15385          Sep 2009 - Sep 2009   \n",
       "15386                  1993 - 1993   \n",
       "15387          Apr 1999 - Dec 1999   \n",
       "15388          Apr 2015 - Mar 2016   \n",
       "15389          Oct 2012 - Apr 2013   \n",
       "15390          Oct 2015 - Oct 2015   \n",
       "15391          Apr 2013 - Apr 2013   \n",
       "15392          Nov 2018 - Nov 2018   \n",
       "15393          Feb 2015 - Dec 2015   \n",
       "\n",
       "                                                     url rating_type  \n",
       "15384  https://myanimelist.net/anime/3863/Sweet_Valer...         MAL  \n",
       "15385  https://myanimelist.net/anime/6641/Tonari_no_8...         MAL  \n",
       "15386  https://myanimelist.net/anime/23825/Ys_IV__The...         MAL  \n",
       "15387    https://myanimelist.net/anime/4709/Aesops_World         MAL  \n",
       "15388    https://myanimelist.net/anime/30617/Animegatari         MAL  \n",
       "15389  https://myanimelist.net/anime/15133/Aoi_Sekai_...         MAL  \n",
       "15390      https://myanimelist.net/anime/30137/Big_Order         MAL  \n",
       "15391  https://myanimelist.net/anime/18419/Boku_no_Im...         MAL  \n",
       "15392  https://myanimelist.net/anime/38487/Daitan_Fut...         MAL  \n",
       "15393        https://myanimelist.net/anime/30289/Dededen         MAL  "
      ]
     },
     "execution_count": 54,
     "metadata": {},
     "output_type": "execute_result"
    }
   ],
   "source": [
    "anime_db.tail(10)"
   ]
  },
  {
   "cell_type": "code",
   "execution_count": 55,
   "metadata": {
    "collapsed": false,
    "jupyter": {
     "outputs_hidden": false
    }
   },
   "outputs": [],
   "source": [
    "#remove special characters from the names\n",
    "anime_db[\"name\"] = anime_db[\"name\"].map(lambda name:re.sub('[^A-Za-z0-9]+', \" \", name))"
   ]
  },
  {
   "cell_type": "markdown",
   "metadata": {},
   "source": [
    "## recommendation system\n",
    "\n",
    "For the recommendations I will use the simple k-means, to find the nearest x entries"
   ]
  },
  {
   "cell_type": "code",
   "execution_count": 56,
   "metadata": {},
   "outputs": [],
   "source": [
    "#use MaxBsScaler to scale the features from 1-0, while preserving sparsity\n",
    "from sklearn.preprocessing import MaxAbsScaler\n",
    "max_abs_scaler = MaxAbsScaler()\n",
    "anime_features = max_abs_scaler.fit_transform(anime_features)"
   ]
  },
  {
   "cell_type": "code",
   "execution_count": 57,
   "metadata": {},
   "outputs": [],
   "source": [
    "#build a model using the unsupervised verion of K-Nearest Neighbors\n",
    "from sklearn.neighbors import NearestNeighbors"
   ]
  },
  {
   "cell_type": "code",
   "execution_count": 64,
   "metadata": {
    "collapsed": false,
    "jupyter": {
     "outputs_hidden": false
    }
   },
   "outputs": [],
   "source": [
    "nn_model = NearestNeighbors(n_neighbors=6,algorithm='auto').fit(anime_features)"
   ]
  },
  {
   "cell_type": "code",
   "execution_count": 65,
   "metadata": {
    "collapsed": false,
    "jupyter": {
     "outputs_hidden": false
    }
   },
   "outputs": [],
   "source": [
    "#Obtain the indices of and distances to the the nearest K neighbors of each point.\n",
    "distances, indices = nn_model.kneighbors(anime_features)"
   ]
  },
  {
   "cell_type": "code",
   "execution_count": 66,
   "metadata": {},
   "outputs": [
    {
     "data": {
      "text/plain": [
       "(15394, 6)"
      ]
     },
     "execution_count": 66,
     "metadata": {},
     "output_type": "execute_result"
    }
   ],
   "source": [
    "# take a look at one of the idices\n",
    "\n",
    "indices.shape"
   ]
  },
  {
   "cell_type": "code",
   "execution_count": 67,
   "metadata": {
    "collapsed": false,
    "jupyter": {
     "outputs_hidden": false
    }
   },
   "outputs": [],
   "source": [
    "def similar_anime_content(query):\n",
    "    if query not in anime_db['name']:\n",
    "        N = anime_db[anime_db['name'].str.upper() == query.upper()].index[0]\n",
    "        print(N)\n",
    "        print('Similar Anime to \"{}\":'.format(query))\n",
    "        for n in indices[N]:\n",
    "            if query not in anime_db.loc[n]['name']:\n",
    "                print('Anime: {} ({}) \\n Genre: {}; Average ratings: {}; Format: {}, Members: {}'.format(anime_db.loc[n]['name'],                     \n",
    "                                                                                      anime_db.loc[n]['english_name'],\n",
    "                                                                                      anime_db.loc[n]['genre'],\n",
    "                                                                                      round(anime_db.loc[n]['rating'],2),\n",
    "                                                                                      anime_db.loc[n]['type'],\n",
    "                                                                                      anime_db.loc[n]['members']\n",
    "                                                                                      ))        \n",
    "    else:\n",
    "        print('The anime {} does not exist in our database.'.format(query))"
   ]
  },
  {
   "cell_type": "code",
   "execution_count": 68,
   "metadata": {
    "tags": []
   },
   "outputs": [],
   "source": [
    "test_anime = 1912\n",
    "distance, index = nn_model.kneighbors(anime_features[test_anime].reshape(1,-1))"
   ]
  },
  {
   "cell_type": "code",
   "execution_count": 69,
   "metadata": {},
   "outputs": [
    {
     "name": "stdout",
     "output_type": "stream",
     "text": [
      "Average Accuracy:  57.376516475351465\n",
      "Worst Accuracy:  -200.00706232074285\n",
      "Kaze Gourmet Accuracy List\n",
      "Kaze Gourmet Accuracy: 100.0 %\n",
      "Ojiichan no Komoriuta Accuracy: 100.0 %\n",
      "Chiisana Tegami Accuracy: 100.0 %\n",
      "Kumo ga Haretara Accuracy: 99.97438781192307 %\n"
     ]
    }
   ],
   "source": [
    "# Accuracy will be determined by the distance from the original anime\n",
    "def accuracy(x, min_val):\n",
    "   return (1 - (abs(x - min_val))) * 100 \n",
    "\n",
    "# Calculate the shortest distance to any element\n",
    "min_val = np.min(distances)\n",
    "\n",
    "# Determine average accuracy and worst accuracy\n",
    "distance_average = np.mean(distances)\n",
    "distance_max_val = np.max(distances)\n",
    "\n",
    "print(\"Average Accuracy: \", accuracy(distance_average, min_val))\n",
    "print(\"Worst Accuracy: \", accuracy(distance_max_val, min_val))\n",
    "\n",
    "print(anime_db.iloc[test_anime].loc[\"name\"], \"Accuracy List\")\n",
    "for x in range(1,5):\n",
    "    print(anime_db.iloc[index[0,x]].loc[\"name\"],\"Accuracy:\", accuracy(distance[0,x], min_val), \"%\")"
   ]
  },
  {
   "cell_type": "code",
   "execution_count": 70,
   "metadata": {},
   "outputs": [],
   "source": [
    "# random anime\n",
    "from random import randint, sample\n",
    "def randomAnime():\n",
    "    R = sample(range(0, len(anime_db)-1), 1)\n",
    "    rand_anime = anime_db.loc[R]\n",
    "    print('Random Anime: {}; Genre: {}'.format(rand_anime['name'].to_string(index=False),rand_anime['genre'].to_string(index=False)))"
   ]
  },
  {
   "cell_type": "code",
   "execution_count": 71,
   "metadata": {},
   "outputs": [
    {
     "name": "stdout",
     "output_type": "stream",
     "text": [
      "Random Anime: Memories Off 3 5; Genre: [Romance, Drama]\n"
     ]
    }
   ],
   "source": [
    "randomAnime()"
   ]
  },
  {
   "cell_type": "code",
   "execution_count": 72,
   "metadata": {},
   "outputs": [
    {
     "data": {
      "application/vnd.jupyter.widget-view+json": {
       "model_id": "624bb5b2e83e4e878f1025db31a6cfc1",
       "version_major": 2,
       "version_minor": 0
      },
      "text/plain": [
       "Text(value='')"
      ]
     },
     "metadata": {},
     "output_type": "display_data"
    },
    {
     "data": {
      "application/vnd.jupyter.widget-view+json": {
       "model_id": "7fbe4d511f0a4b169152307293895bf5",
       "version_major": 2,
       "version_minor": 0
      },
      "text/plain": [
       "Button(description='Submit', style=ButtonStyle(), tooltip='Submit')"
      ]
     },
     "metadata": {},
     "output_type": "display_data"
    },
    {
     "data": {
      "application/vnd.jupyter.widget-view+json": {
       "model_id": "0317538b239d4ff8872f4cd8176062eb",
       "version_major": 2,
       "version_minor": 0
      },
      "text/plain": [
       "Output()"
      ]
     },
     "metadata": {},
     "output_type": "display_data"
    }
   ],
   "source": [
    "similar_anime_search = widgets.Text()\n",
    "similar_anime_output = widgets.Output()\n",
    "similar_anime_button = widgets.Button(\n",
    "    description='Submit',\n",
    "    disabled=False,\n",
    "    button_style='',\n",
    "    tooltip='Submit'\n",
    ")\n",
    "display(similar_anime_search, similar_anime_button, similar_anime_output)\n",
    "def search_similar_anime(text_field, button):\n",
    "    with similar_anime_output:\n",
    "        similar_anime_output.clear_output()\n",
    "        similar_anime_content(text_field.value)\n",
    "        \n",
    "similar_anime_button.on_click(partial(search_similar_anime,similar_anime_search)) "
   ]
  },
  {
   "cell_type": "code",
   "execution_count": 73,
   "metadata": {},
   "outputs": [
    {
     "data": {
      "application/vnd.jupyter.widget-view+json": {
       "model_id": "4132259770ee47dd9f5c0eeca9425758",
       "version_major": 2,
       "version_minor": 0
      },
      "text/plain": [
       "Button(description='Random Anime', style=ButtonStyle(), tooltip='Random Anime')"
      ]
     },
     "metadata": {},
     "output_type": "display_data"
    },
    {
     "data": {
      "application/vnd.jupyter.widget-view+json": {
       "model_id": "9d5d0233cfeb40deb8ab98985b97a882",
       "version_major": 2,
       "version_minor": 0
      },
      "text/plain": [
       "Output()"
      ]
     },
     "metadata": {},
     "output_type": "display_data"
    }
   ],
   "source": [
    "button = widgets.Button(\n",
    "    description='Random Anime',\n",
    "    disabled=False,\n",
    "    button_style='',\n",
    "    tooltip='Random Anime'\n",
    ")\n",
    "output = widgets.Output()\n",
    "\n",
    "display(button, output)\n",
    "def on_button_click(b):\n",
    "    with output:\n",
    "        output.clear_output()\n",
    "        randomAnime()\n",
    "button.on_click(on_button_click)"
   ]
  }
 ],
 "metadata": {
  "anaconda-cloud": {},
  "kernelspec": {
   "display_name": "Python 3 (ipykernel)",
   "language": "python",
   "name": "python3"
  },
  "language_info": {
   "codemirror_mode": {
    "name": "ipython",
    "version": 3
   },
   "file_extension": ".py",
   "mimetype": "text/x-python",
   "name": "python",
   "nbconvert_exporter": "python",
   "pygments_lexer": "ipython3",
   "version": "3.10.5"
  }
 },
 "nbformat": 4,
 "nbformat_minor": 4
}
